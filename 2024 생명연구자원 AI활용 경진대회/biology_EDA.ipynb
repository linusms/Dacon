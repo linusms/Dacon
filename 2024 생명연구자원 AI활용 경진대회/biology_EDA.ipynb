{
  "cells": [
    {
      "cell_type": "code",
      "execution_count": null,
      "metadata": {
        "id": "70YPf1kMTo7r"
      },
      "outputs": [],
      "source": [
        "# Import Library\n",
        "# 제출 파일 생성 관련\n",
        "import os\n",
        "import zipfile\n",
        "\n",
        "# 데이터 처리 및 분석\n",
        "import pandas as pd\n",
        "import numpy as np\n",
        "from scipy import stats\n",
        "from tqdm import tqdm\n",
        "import seaborn as sns\n",
        "from matplotlib import pyplot as plt\n",
        "import datetime\n",
        "\n",
        "# 머신러닝 전처리\n",
        "from sklearn.preprocessing import LabelEncoder, OneHotEncoder\n",
        "from sklearn.preprocessing import StandardScaler\n",
        "from sklearn.preprocessing import KBinsDiscretizer\n",
        "from sklearn.model_selection import StratifiedKFold\n",
        "from sklearn.compose import ColumnTransformer\n",
        "from sklearn.pipeline import Pipeline, make_pipeline\n",
        "\n",
        "# 모델 저장\n",
        "import joblib\n",
        "\n",
        "# 합성 데이터 생성\n",
        "from sdv.metadata import SingleTableMetadata\n",
        "from sdv.single_table import CTGANSynthesizer\n",
        "from sdv.single_table import TVAESynthesizer\n",
        "from sdv.evaluation.single_table import run_diagnostic\n",
        "from sdv.evaluation.single_table import evaluate_quality\n",
        "\n",
        "# To ignore all warnings\n",
        "import warnings\n",
        "warnings.filterwarnings('ignore')\n"
      ]
    },
    {
      "cell_type": "markdown",
      "metadata": {
        "id": "Qo8Lwij1To7t"
      },
      "source": [
        "# 데이터 전처리"
      ]
    },
    {
      "cell_type": "code",
      "execution_count": null,
      "metadata": {
        "colab": {
          "base_uri": "https://localhost:8080/",
          "height": 54
        },
        "id": "PT5qs1wITo7t",
        "outputId": "a3d76d26-155b-4448-a265-edf557c55b52"
      },
      "outputs": [
        {
          "output_type": "execute_result",
          "data": {
            "text/plain": [
              "'\\n(*) 리더보드 산식 중 생성데이터의 익명성(TCAP)채점을 위해 각 클래스 별로 1000개의 생성데이터가 반드시 필요합니다.\\n(*) 본 베이스 라인에서는 \"Fraud_Type\" 13종류에 대해 1000개씩 , 총 13,000개의 데이터를 생성할 예정입니다.\\n(*) 분류 모델 성능 개선을 위해 생성 데이터를 활용하는 것에는 생성 데이터의 Row 개수에 제한이 없습니다. 단, 리더보드 평가를 위해 제출을 하는 생성 데이터 프레임은 익명성(TCAP) 평가를 위함이며, 위의 조건을 갖춘 생성 데이터를 제출해야합니다.\\n'"
            ],
            "application/vnd.google.colaboratory.intrinsic+json": {
              "type": "string"
            }
          },
          "metadata": {},
          "execution_count": 8
        }
      ],
      "source": [
        "\n",
        "# 생성 🏭\n",
        "# Load Data\n",
        "train_all = pd.read_csv(\"./train.csv\")\n",
        "test_all = pd.read_csv(\"./test.csv\")\n",
        "train = train_all.drop(columns=\"ID\")\n",
        "train[\"Fraud_Type\"].value_counts()\n"
      ]
    },
    {
      "cell_type": "code",
      "execution_count": null,
      "metadata": {
        "colab": {
          "base_uri": "https://localhost:8080/"
        },
        "id": "zhYrZp70To7v",
        "outputId": "df468c53-feda-4160-ca2f-f8e285ad061e"
      },
      "outputs": [
        {
          "output_type": "stream",
          "name": "stdout",
          "text": [
            "<class 'pandas.core.frame.DataFrame'>\n",
            "RangeIndex: 120000 entries, 0 to 119999\n",
            "Data columns (total 63 columns):\n",
            " #   Column                                         Non-Null Count   Dtype  \n",
            "---  ------                                         --------------   -----  \n",
            " 0   Customer_Birthyear                             120000 non-null  int64  \n",
            " 1   Customer_Gender                                120000 non-null  object \n",
            " 2   Customer_personal_identifier                   120000 non-null  object \n",
            " 3   Customer_identification_number                 120000 non-null  object \n",
            " 4   Customer_registration_datetime                 120000 non-null  object \n",
            " 5   Customer_credit_rating                         120000 non-null  object \n",
            " 6   Customer_flag_change_of_authentication_1       120000 non-null  int64  \n",
            " 7   Customer_flag_change_of_authentication_2       120000 non-null  int64  \n",
            " 8   Customer_flag_change_of_authentication_3       120000 non-null  int64  \n",
            " 9   Customer_flag_change_of_authentication_4       120000 non-null  int64  \n",
            " 10  Customer_rooting_jailbreak_indicator           120000 non-null  int64  \n",
            " 11  Customer_mobile_roaming_indicator              120000 non-null  int64  \n",
            " 12  Customer_VPN_Indicator                         120000 non-null  int64  \n",
            " 13  Customer_loan_type                             120000 non-null  object \n",
            " 14  Customer_flag_terminal_malicious_behavior_1    120000 non-null  int64  \n",
            " 15  Customer_flag_terminal_malicious_behavior_2    120000 non-null  int64  \n",
            " 16  Customer_flag_terminal_malicious_behavior_3    120000 non-null  int64  \n",
            " 17  Customer_flag_terminal_malicious_behavior_4    120000 non-null  int64  \n",
            " 18  Customer_flag_terminal_malicious_behavior_5    120000 non-null  int64  \n",
            " 19  Customer_flag_terminal_malicious_behavior_6    120000 non-null  int64  \n",
            " 20  Customer_inquery_atm_limit                     120000 non-null  int64  \n",
            " 21  Customer_increase_atm_limit                    120000 non-null  int64  \n",
            " 22  Account_account_number                         120000 non-null  object \n",
            " 23  Account_account_type                           120000 non-null  object \n",
            " 24  Account_creation_datetime                      120000 non-null  object \n",
            " 25  Account_initial_balance                        120000 non-null  int64  \n",
            " 26  Account_balance                                120000 non-null  int64  \n",
            " 27  Account_indicator_release_limit_excess         120000 non-null  int64  \n",
            " 28  Account_amount_daily_limit                     120000 non-null  int64  \n",
            " 29  Account_indicator_Openbanking                  120000 non-null  int64  \n",
            " 30  Account_remaining_amount_daily_limit_exceeded  120000 non-null  int64  \n",
            " 31  Account_release_suspention                     120000 non-null  int64  \n",
            " 32  Account_one_month_max_amount                   120000 non-null  int64  \n",
            " 33  Account_one_month_std_dev                      120000 non-null  int64  \n",
            " 34  Account_dawn_one_month_max_amount              120000 non-null  int64  \n",
            " 35  Account_dawn_one_month_std_dev                 120000 non-null  int64  \n",
            " 36  Transaction_Datetime                           120000 non-null  object \n",
            " 37  Transaction_Amount                             120000 non-null  int64  \n",
            " 38  Channel                                        120000 non-null  object \n",
            " 39  Operating_System                               120000 non-null  object \n",
            " 40  Error_Code                                     120000 non-null  object \n",
            " 41  Transaction_Failure_Status                     120000 non-null  int64  \n",
            " 42  Type_General_Automatic                         120000 non-null  object \n",
            " 43  IP_Address                                     120000 non-null  object \n",
            " 44  MAC_Address                                    120000 non-null  object \n",
            " 45  Access_Medium                                  120000 non-null  object \n",
            " 46  Location                                       120000 non-null  object \n",
            " 47  Recipient_Account_Number                       120000 non-null  object \n",
            " 48  Transaction_num_connection_failure             120000 non-null  int64  \n",
            " 49  Another_Person_Account                         120000 non-null  int64  \n",
            " 50  Distance                                       120000 non-null  float64\n",
            " 51  Time_difference                                120000 non-null  object \n",
            " 52  Unused_terminal_status                         120000 non-null  int64  \n",
            " 53  Last_atm_transaction_datetime                  120000 non-null  object \n",
            " 54  Last_bank_branch_transaction_datetime          120000 non-null  object \n",
            " 55  Flag_deposit_more_than_tenMillion              120000 non-null  int64  \n",
            " 56  Unused_account_status                          120000 non-null  int64  \n",
            " 57  Recipient_account_suspend_status               120000 non-null  int64  \n",
            " 58  Number_of_transaction_with_the_account         120000 non-null  int64  \n",
            " 59  Transaction_history_with_the_account           120000 non-null  int64  \n",
            " 60  First_time_iOS_by_vulnerable_user              120000 non-null  int64  \n",
            " 61  Fraud_Type                                     120000 non-null  object \n",
            " 62  Transaction_resumed_date                       120000 non-null  object \n",
            "dtypes: float64(1), int64(38), object(24)\n",
            "memory usage: 57.7+ MB\n"
          ]
        }
      ],
      "source": [
        "train.info()"
      ]
    },
    {
      "cell_type": "code",
      "execution_count": null,
      "metadata": {
        "id": "7JXvmwgjTo7w"
      },
      "outputs": [],
      "source": [
        "obj_cat_columns=[col for col in train.select_dtypes(['object']).columns if train[col].nunique() <= 20]\n",
        "obj_idf_columns=[col for col in train.select_dtypes(['object']).columns if train[col].nunique() > 20]\n",
        "num_cat_columns=[col for col in train.select_dtypes(['int64', 'float64']).columns if train[col].nunique() <= 2]\n",
        "num_con_columns=[col for col in train.select_dtypes(['int64', 'float64']).columns if train[col].nunique() > 2]\n",
        "\n",
        "obj_cat_columns.remove('Fraud_Type')"
      ]
    },
    {
      "cell_type": "code",
      "execution_count": null,
      "metadata": {
        "colab": {
          "base_uri": "https://localhost:8080/"
        },
        "id": "sE6mLVyhTo7w",
        "outputId": "878b4ea0-24f4-40a4-c021-bef8bada3552"
      },
      "outputs": [
        {
          "output_type": "stream",
          "name": "stdout",
          "text": [
            "obj_cat_columns :  ['Customer_Gender', 'Customer_credit_rating', 'Customer_loan_type', 'Account_account_type', 'Channel', 'Operating_System', 'Error_Code', 'Type_General_Automatic', 'Access_Medium']\n",
            "obj_idf_columns :  ['Customer_personal_identifier', 'Customer_identification_number', 'Customer_registration_datetime', 'Account_account_number', 'Account_creation_datetime', 'Transaction_Datetime', 'IP_Address', 'MAC_Address', 'Location', 'Recipient_Account_Number', 'Time_difference', 'Last_atm_transaction_datetime', 'Last_bank_branch_transaction_datetime', 'Transaction_resumed_date']\n",
            "num_cat_columns :  ['Customer_flag_change_of_authentication_1', 'Customer_flag_change_of_authentication_2', 'Customer_flag_change_of_authentication_3', 'Customer_flag_change_of_authentication_4', 'Customer_rooting_jailbreak_indicator', 'Customer_mobile_roaming_indicator', 'Customer_VPN_Indicator', 'Customer_flag_terminal_malicious_behavior_1', 'Customer_flag_terminal_malicious_behavior_2', 'Customer_flag_terminal_malicious_behavior_3', 'Customer_flag_terminal_malicious_behavior_4', 'Customer_flag_terminal_malicious_behavior_5', 'Customer_flag_terminal_malicious_behavior_6', 'Customer_inquery_atm_limit', 'Customer_increase_atm_limit', 'Account_indicator_release_limit_excess', 'Account_indicator_Openbanking', 'Account_release_suspention', 'Transaction_Failure_Status', 'Another_Person_Account', 'Unused_terminal_status', 'Flag_deposit_more_than_tenMillion', 'Unused_account_status', 'Recipient_account_suspend_status', 'First_time_iOS_by_vulnerable_user']\n",
            "num_con_columns :  ['Customer_Birthyear', 'Account_initial_balance', 'Account_balance', 'Account_amount_daily_limit', 'Account_remaining_amount_daily_limit_exceeded', 'Account_one_month_max_amount', 'Account_one_month_std_dev', 'Account_dawn_one_month_max_amount', 'Account_dawn_one_month_std_dev', 'Transaction_Amount', 'Transaction_num_connection_failure', 'Distance', 'Number_of_transaction_with_the_account', 'Transaction_history_with_the_account']\n"
          ]
        }
      ],
      "source": [
        "print('obj_cat_columns : ', obj_cat_columns)\n",
        "print('obj_idf_columns : ', obj_idf_columns)\n",
        "print('num_cat_columns : ', num_cat_columns)\n",
        "print('num_con_columns : ', num_con_columns)"
      ]
    },
    {
      "cell_type": "code",
      "execution_count": null,
      "metadata": {
        "id": "rMAb6c9nTo7x"
      },
      "outputs": [],
      "source": [
        "import holidays\n",
        "\n",
        "def is_holiday(date):\n",
        "    kr_holidays=holidays.KR(years=date.year)\n",
        "    if date in kr_holidays:\n",
        "        return 1\n",
        "    else:\n",
        "        return 0\n",
        "\n",
        "def timezone(date):\n",
        "    if date.hour>=1 and date.hour<=6:\n",
        "        return 'dawn'\n",
        "\n",
        "    elif date.hour>=7 and date.hour<=12:\n",
        "        return 'morning'\n",
        "\n",
        "    elif date.hour>=13 and date.hour<=18:\n",
        "        return 'evening'\n",
        "\n",
        "    else:\n",
        "        return 'night'\n",
        "\n",
        "def feature_engineering(df):\n",
        "\n",
        "  # Time_difference 컬럼을 총 초로 변환 및 이상치 처리\n",
        "  df['Time_difference_seconds'] = pd.to_timedelta(df['Time_difference']).dt.total_seconds()\n",
        "\n",
        "  df['Transaction_Datetime']=pd.to_datetime(df['Transaction_Datetime'])\n",
        "  df['Transaction_Datetime_isholiday']=df['Transaction_Datetime'].apply(is_holiday)\n",
        "  df['Transaction_Datetime_day']=df['Transaction_Datetime'].apply(lambda x: x.strftime(\"%A\"))\n",
        "  df['Transaction_Datetime_timezone']=df['Transaction_Datetime'].apply(timezone)\n",
        "\n",
        "  df['Location_District_Size']=df['Location'].apply(lambda x: 0 if x.split()[0][-1]==\"도\" else 1)\n",
        "  df['Location_District']=df['Location'].apply(lambda x: x.split()[0])\n",
        "  df['Account_after_transaction']=df['Account_balance']-df['Account_initial_balance']\n",
        "\n",
        "  df['Last_bank_branch_transaction_datetime']=pd.to_datetime(df['Last_bank_branch_transaction_datetime'])\n",
        "  df['Last_atm_transaction_datetime']=pd.to_datetime(df['Last_atm_transaction_datetime'])\n",
        "  df['Last_atm_bank_transaction_time_difference']=(df['Last_bank_branch_transaction_datetime']-df['Last_atm_transaction_datetime']).dt.total_seconds()\n",
        "\n",
        "  df['Customer_malicious_behavior']=(df['Customer_rooting_jailbreak_indicator']+\n",
        "                                      df['Customer_mobile_roaming_indicator']+\n",
        "                                      df['Customer_VPN_Indicator']+\n",
        "                                      df['Customer_flag_terminal_malicious_behavior_1']+\n",
        "                                      df['Customer_flag_terminal_malicious_behavior_2']+\n",
        "                                      df['Customer_flag_terminal_malicious_behavior_3']+\n",
        "                                      df['Customer_flag_terminal_malicious_behavior_4']+\n",
        "                                      df['Customer_flag_terminal_malicious_behavior_5']+\n",
        "                                      df['Customer_flag_terminal_malicious_behavior_6'])\n",
        "\n",
        "  df['Customer_change_of_authentication']=(df['Customer_flag_change_of_authentication_1']+\n",
        "                                              df['Customer_flag_change_of_authentication_2']+\n",
        "                                              df['Customer_flag_change_of_authentication_3']+\n",
        "                                              df['Customer_flag_change_of_authentication_4'])\n",
        "\n",
        "  df['Account_change']=(df['Account_indicator_release_limit_excess']+\n",
        "                          df['Account_release_suspention']+\n",
        "                          df['Flag_deposit_more_than_tenMillion']+\n",
        "                          df['Unused_account_status']+\n",
        "                          df['Recipient_account_suspend_status'])\n",
        "\n",
        "  return df"
      ]
    },
    {
      "cell_type": "code",
      "execution_count": null,
      "metadata": {
        "id": "WGN6cnvfTo7z"
      },
      "outputs": [],
      "source": [
        "train=feature_engineering(train)"
      ]
    },
    {
      "cell_type": "code",
      "execution_count": null,
      "metadata": {
        "id": "5H3MdkAWWwG8"
      },
      "outputs": [],
      "source": [
        "\n",
        "obj_cat_columns=obj_cat_columns+['Location_District', 'Transaction_Datetime_timezone', 'Transaction_Datetime_day']\n",
        "num_cat_columns=num_cat_columns+['Transaction_Datetime_isholiday', 'Location_District_Size']\n",
        "num_con_columns=num_con_columns+['Last_atm_bank_transaction_time_difference','Time_difference_seconds', 'Account_after_transaction',\n",
        "                'Account_change','Customer_change_of_authentication','Customer_malicious_behavior']\n",
        "\n",
        "# obj_idf_columns  에서 가공할 열 :\n",
        "# 'Customer_registration_datetime', 'Account_creation_datetime', 'Transaction_Datetime', : 거래 시간(밤,낮인지), 거래 일자(공휴일 혹은 평일)\n",
        "# 'Location', : 이상 거래가 자주 발생하는 장소 - 시군구로 나누고 시각화해보기\n",
        "# 'Last_atm_transaction_datetime', 'Last_bank_branch_transaction_datetime', 'Transaction_resumed_date' : 연도-월로 나눠 가장 최근으로부터 얼마나 떨어져 있는지 확인"
      ]
    },
    {
      "cell_type": "code",
      "execution_count": null,
      "metadata": {
        "colab": {
          "base_uri": "https://localhost:8080/"
        },
        "id": "1EOB0Y7pRxPl",
        "outputId": "6d1cc102-48be-4410-e263-6574911da730"
      },
      "outputs": [
        {
          "output_type": "stream",
          "name": "stdout",
          "text": [
            "obj_cat_columns :  ['Customer_Gender', 'Customer_credit_rating', 'Customer_loan_type', 'Account_account_type', 'Channel', 'Operating_System', 'Error_Code', 'Type_General_Automatic', 'Access_Medium', 'Location_District', 'Transaction_Datetime_timezone', 'Transaction_Datetime_day']\n",
            "obj_idf_columns :  ['Customer_personal_identifier', 'Customer_identification_number', 'Customer_registration_datetime', 'Account_account_number', 'Account_creation_datetime', 'Transaction_Datetime', 'IP_Address', 'MAC_Address', 'Location', 'Recipient_Account_Number', 'Time_difference', 'Last_atm_transaction_datetime', 'Last_bank_branch_transaction_datetime', 'Transaction_resumed_date']\n",
            "num_cat_columns :  ['Customer_flag_change_of_authentication_1', 'Customer_flag_change_of_authentication_2', 'Customer_flag_change_of_authentication_3', 'Customer_flag_change_of_authentication_4', 'Customer_rooting_jailbreak_indicator', 'Customer_mobile_roaming_indicator', 'Customer_VPN_Indicator', 'Customer_flag_terminal_malicious_behavior_1', 'Customer_flag_terminal_malicious_behavior_2', 'Customer_flag_terminal_malicious_behavior_3', 'Customer_flag_terminal_malicious_behavior_4', 'Customer_flag_terminal_malicious_behavior_5', 'Customer_flag_terminal_malicious_behavior_6', 'Customer_inquery_atm_limit', 'Customer_increase_atm_limit', 'Account_indicator_release_limit_excess', 'Account_indicator_Openbanking', 'Account_release_suspention', 'Transaction_Failure_Status', 'Another_Person_Account', 'Unused_terminal_status', 'Flag_deposit_more_than_tenMillion', 'Unused_account_status', 'Recipient_account_suspend_status', 'First_time_iOS_by_vulnerable_user', 'Transaction_Datetime_isholiday', 'Location_District_Size']\n",
            "num_con_columns :  ['Customer_Birthyear', 'Account_initial_balance', 'Account_balance', 'Account_amount_daily_limit', 'Account_remaining_amount_daily_limit_exceeded', 'Account_one_month_max_amount', 'Account_one_month_std_dev', 'Account_dawn_one_month_max_amount', 'Account_dawn_one_month_std_dev', 'Transaction_Amount', 'Transaction_num_connection_failure', 'Distance', 'Number_of_transaction_with_the_account', 'Transaction_history_with_the_account', 'Last_atm_bank_transaction_time_difference', 'Time_difference_seconds', 'Account_after_transaction', 'Account_change', 'Customer_change_of_authentication', 'Customer_malicious_behavior']\n"
          ]
        }
      ],
      "source": [
        "print('obj_cat_columns : ', obj_cat_columns)\n",
        "print('obj_idf_columns : ', obj_idf_columns)\n",
        "print('num_cat_columns : ', num_cat_columns)\n",
        "print('num_con_columns : ', num_con_columns)"
      ]
    },
    {
      "cell_type": "code",
      "execution_count": null,
      "metadata": {
        "id": "x9LX8ghBTo70"
      },
      "outputs": [],
      "source": [
        "model_fit_columns=obj_cat_columns+num_cat_columns+num_con_columns\n",
        "# model_fit_columns=[x for x in model_fit_columns if x not in ['ID', 'Fraud_Type']]"
      ]
    },
    {
      "cell_type": "markdown",
      "metadata": {
        "id": "LE2Rh5qRTo72"
      },
      "source": [
        "# EDA"
      ]
    },
    {
      "cell_type": "markdown",
      "metadata": {
        "id": "5WmOHwT0To75"
      },
      "source": [
        "# 데이터 생성"
      ]
    },
    {
      "cell_type": "code",
      "execution_count": null,
      "metadata": {
        "id": "cXjkuBt3To76"
      },
      "outputs": [],
      "source": [
        "fraud_types = train['Fraud_Type'].unique()\n",
        "\n",
        "N_CLS_PER_GEN = 500\n",
        "N_SAMPLE = 100\n",
        "\n",
        "cat_esb = CategoricalEnsemble()\n",
        "\n",
        "train_new = train_all.drop(columns=\"ID\")\n",
        "train_new['Time_difference_seconds'] = pd.to_timedelta(train_new['Time_difference']).dt.total_seconds()"
      ]
    },
    {
      "cell_type": "code",
      "source": [
        "# 모든 합성 데이터를 저장할 DataFrame 초기화\n",
        "all_synthetic_data_ctgan = pd.DataFrame()\n",
        "\n",
        "# 각 Fraud_Type에 대해 합성 데이터 생성 및 저장\n",
        "for fraud_type in tqdm(fraud_types):\n",
        "\n",
        "    # 해당 Fraud_Type에 대한 서브셋 생성\n",
        "    subset = train_new[train_new[\"Fraud_Type\"] == fraud_type]\n",
        "\n",
        "    # 모든 Fraud_Type에 대해 100개씩 샘플링\n",
        "    subset = subset.sample(n=N_SAMPLE, random_state=42)\n",
        "\n",
        "    # Time_difference 열 제외 (초 단위로 변환된 컬럼만 사용)\n",
        "    subset = subset.drop('Time_difference', axis=1)\n",
        "\n",
        "    # 메타데이터 생성 및 모델 학습\n",
        "    metadata = SingleTableMetadata()\n",
        "\n",
        "    metadata.detect_from_dataframe(subset)\n",
        "    metadata.set_primary_key(None)\n",
        "\n",
        "    # 데이터 타입 설정\n",
        "    column_sdtypes = {\n",
        "        'Account_initial_balance': 'numerical',\n",
        "        'Account_balance': 'numerical',\n",
        "        'Customer_identification_number': 'categorical',\n",
        "        'Customer_personal_identifier': 'categorical',\n",
        "        'Account_account_number': 'categorical',\n",
        "        'IP_Address': 'ipv4_address',\n",
        "        'Location': 'categorical',\n",
        "        'Recipient_Account_Number': 'categorical',\n",
        "        'Fraud_Type': 'categorical',\n",
        "        'Time_difference_seconds': 'numerical',\n",
        "        'Customer_Birthyear': 'numerical'\n",
        "    }\n",
        "\n",
        "    # 각 컬럼에 대해 데이터 타입 설정\n",
        "    for column, sdtype in column_sdtypes.items():\n",
        "        metadata.update_column(\n",
        "            column_name=column,\n",
        "            sdtype=sdtype\n",
        "        )\n",
        "\n",
        "    synthesizer = CTGANSynthesizer(\n",
        "                            metadata,\n",
        "                            epochs=100\n",
        "                        )\n",
        "    synthesizer.fit(subset)\n",
        "\n",
        "    synthetic_subset = synthesizer.sample(num_rows=N_CLS_PER_GEN)\n",
        "\n",
        "    # 생성된 데이터를 all_synthetic_data_ctgan에 추가\n",
        "    all_synthetic_data_ctgan = pd.concat([all_synthetic_data_ctgan, synthetic_subset], ignore_index=True)\n",
        "\n"
      ],
      "metadata": {
        "colab": {
          "base_uri": "https://localhost:8080/"
        },
        "id": "9d0muSzytee3",
        "outputId": "57985808-faf4-44df-bd63-98b715037677"
      },
      "execution_count": null,
      "outputs": [
        {
          "output_type": "stream",
          "name": "stderr",
          "text": [
            "100%|██████████| 13/13 [13:08<00:00, 60.67s/it]\n"
          ]
        }
      ]
    },
    {
      "cell_type": "code",
      "source": [
        "all_synthetic_data_ctgan.columns"
      ],
      "metadata": {
        "id": "MH4VkArjEmVN",
        "outputId": "9730c69e-3343-4f4e-da8d-56b4cd98b3f3",
        "colab": {
          "base_uri": "https://localhost:8080/"
        }
      },
      "execution_count": null,
      "outputs": [
        {
          "output_type": "execute_result",
          "data": {
            "text/plain": [
              "Index(['Customer_Birthyear', 'Customer_Gender', 'Customer_personal_identifier',\n",
              "       'Customer_identification_number', 'Customer_registration_datetime',\n",
              "       'Customer_credit_rating', 'Customer_flag_change_of_authentication_1',\n",
              "       'Customer_flag_change_of_authentication_2',\n",
              "       'Customer_flag_change_of_authentication_3',\n",
              "       'Customer_flag_change_of_authentication_4',\n",
              "       'Customer_rooting_jailbreak_indicator',\n",
              "       'Customer_mobile_roaming_indicator', 'Customer_VPN_Indicator',\n",
              "       'Customer_loan_type', 'Customer_flag_terminal_malicious_behavior_1',\n",
              "       'Customer_flag_terminal_malicious_behavior_2',\n",
              "       'Customer_flag_terminal_malicious_behavior_3',\n",
              "       'Customer_flag_terminal_malicious_behavior_4',\n",
              "       'Customer_flag_terminal_malicious_behavior_5',\n",
              "       'Customer_flag_terminal_malicious_behavior_6',\n",
              "       'Customer_inquery_atm_limit', 'Customer_increase_atm_limit',\n",
              "       'Account_account_number', 'Account_account_type',\n",
              "       'Account_creation_datetime', 'Account_initial_balance',\n",
              "       'Account_balance', 'Account_indicator_release_limit_excess',\n",
              "       'Account_amount_daily_limit', 'Account_indicator_Openbanking',\n",
              "       'Account_remaining_amount_daily_limit_exceeded',\n",
              "       'Account_release_suspention', 'Account_one_month_max_amount',\n",
              "       'Account_one_month_std_dev', 'Account_dawn_one_month_max_amount',\n",
              "       'Account_dawn_one_month_std_dev', 'Transaction_Datetime',\n",
              "       'Transaction_Amount', 'Channel', 'Operating_System', 'Error_Code',\n",
              "       'Transaction_Failure_Status', 'Type_General_Automatic', 'IP_Address',\n",
              "       'MAC_Address', 'Access_Medium', 'Location', 'Recipient_Account_Number',\n",
              "       'Transaction_num_connection_failure', 'Another_Person_Account',\n",
              "       'Distance', 'Unused_terminal_status', 'Last_atm_transaction_datetime',\n",
              "       'Last_bank_branch_transaction_datetime',\n",
              "       'Flag_deposit_more_than_tenMillion', 'Unused_account_status',\n",
              "       'Recipient_account_suspend_status',\n",
              "       'Number_of_transaction_with_the_account',\n",
              "       'Transaction_history_with_the_account',\n",
              "       'First_time_iOS_by_vulnerable_user', 'Fraud_Type',\n",
              "       'Transaction_resumed_date', 'Time_difference_seconds'],\n",
              "      dtype='object')"
            ]
          },
          "metadata": {},
          "execution_count": 41
        }
      ]
    },
    {
      "cell_type": "code",
      "source": [
        "train_new.columns"
      ],
      "metadata": {
        "id": "DsuOy9XFE9W_",
        "outputId": "339212a8-1158-4238-99e4-f8a6d212f168",
        "colab": {
          "base_uri": "https://localhost:8080/"
        }
      },
      "execution_count": null,
      "outputs": [
        {
          "output_type": "execute_result",
          "data": {
            "text/plain": [
              "Index(['Customer_Birthyear', 'Customer_Gender', 'Customer_personal_identifier',\n",
              "       'Customer_identification_number', 'Customer_registration_datetime',\n",
              "       'Customer_credit_rating', 'Customer_flag_change_of_authentication_1',\n",
              "       'Customer_flag_change_of_authentication_2',\n",
              "       'Customer_flag_change_of_authentication_3',\n",
              "       'Customer_flag_change_of_authentication_4',\n",
              "       'Customer_rooting_jailbreak_indicator',\n",
              "       'Customer_mobile_roaming_indicator', 'Customer_VPN_Indicator',\n",
              "       'Customer_loan_type', 'Customer_flag_terminal_malicious_behavior_1',\n",
              "       'Customer_flag_terminal_malicious_behavior_2',\n",
              "       'Customer_flag_terminal_malicious_behavior_3',\n",
              "       'Customer_flag_terminal_malicious_behavior_4',\n",
              "       'Customer_flag_terminal_malicious_behavior_5',\n",
              "       'Customer_flag_terminal_malicious_behavior_6',\n",
              "       'Customer_inquery_atm_limit', 'Customer_increase_atm_limit',\n",
              "       'Account_account_number', 'Account_account_type',\n",
              "       'Account_creation_datetime', 'Account_initial_balance',\n",
              "       'Account_balance', 'Account_indicator_release_limit_excess',\n",
              "       'Account_amount_daily_limit', 'Account_indicator_Openbanking',\n",
              "       'Account_remaining_amount_daily_limit_exceeded',\n",
              "       'Account_release_suspention', 'Account_one_month_max_amount',\n",
              "       'Account_one_month_std_dev', 'Account_dawn_one_month_max_amount',\n",
              "       'Account_dawn_one_month_std_dev', 'Transaction_Datetime',\n",
              "       'Transaction_Amount', 'Channel', 'Operating_System', 'Error_Code',\n",
              "       'Transaction_Failure_Status', 'Type_General_Automatic', 'IP_Address',\n",
              "       'MAC_Address', 'Access_Medium', 'Location', 'Recipient_Account_Number',\n",
              "       'Transaction_num_connection_failure', 'Another_Person_Account',\n",
              "       'Distance', 'Time_difference', 'Unused_terminal_status',\n",
              "       'Last_atm_transaction_datetime',\n",
              "       'Last_bank_branch_transaction_datetime',\n",
              "       'Flag_deposit_more_than_tenMillion', 'Unused_account_status',\n",
              "       'Recipient_account_suspend_status',\n",
              "       'Number_of_transaction_with_the_account',\n",
              "       'Transaction_history_with_the_account',\n",
              "       'First_time_iOS_by_vulnerable_user', 'Fraud_Type',\n",
              "       'Transaction_resumed_date', 'Time_difference_seconds'],\n",
              "      dtype='object')"
            ]
          },
          "metadata": {},
          "execution_count": 42
        }
      ]
    },
    {
      "cell_type": "code",
      "source": [
        "diagnostic_report = run_diagnostic(\n",
        "    real_data=train_new.drop(columns=['Time_difference']),\n",
        "    synthetic_data=all_synthetic_data_ctgan,\n",
        "    metadata=metadata)\n",
        "\n",
        "diagnostic_report.get_details(property_name='Data Validity')\n",
        "diagnostic_report.get_details(property_name='Data Structure')\n",
        "\n",
        "\n",
        "quality_report = evaluate_quality(\n",
        "    real_data=train_new.drop(columns=['Time_difference']),\n",
        "    synthetic_data=all_synthetic_data_ctgan,\n",
        "    metadata=metadata)\n",
        "\n",
        "quality_report.get_details(property_name='Column Shapes')\n",
        "quality_report.get_details(property_name='Column Pair Trends')\n",
        "\n",
        "quality_report.save(filepath=f'results/{datetime.now()}_quality_report.pkl')\n",
        "diagnostic_report.save(filepath=f'results/{datetime.now()}_diagnostic_report.pkl')\n",
        "\n",
        "synthesizer.save(\n",
        "    filepath=f'{datetime.now()}_ctgan_synthesizer.pkl'\n",
        ")\n",
        "\n",
        "fig = synthesizer.get_loss_values_plot()\n",
        "fig.show()"
      ],
      "metadata": {
        "id": "elEECpzX31kp",
        "outputId": "a300e844-f370-40ff-dfe0-7ee5fdacf52d",
        "colab": {
          "base_uri": "https://localhost:8080/",
          "height": 667
        }
      },
      "execution_count": null,
      "outputs": [
        {
          "output_type": "stream",
          "name": "stdout",
          "text": [
            "Generating report ...\n",
            "\n",
            "(1/2) Evaluating Data Validity: |██████████| 63/63 [00:00<00:00, 128.72it/s]|\n",
            "Data Validity Score: 99.92%\n",
            "\n",
            "(2/2) Evaluating Data Structure: |██████████| 1/1 [00:00<00:00, 194.48it/s]|\n",
            "Data Structure Score: 100.0%\n",
            "\n",
            "Overall Score (Average): 99.96%\n",
            "\n",
            "Generating report ...\n",
            "\n",
            "(1/2) Evaluating Column Shapes: |██████████| 63/63 [00:35<00:00,  1.78it/s]|\n",
            "Column Shapes Score: 84.07%\n",
            "\n",
            "(2/2) Evaluating Column Pair Trends: |▋         | 143/1953 [01:20<1:37:19,  3.23s/it]|"
          ]
        },
        {
          "output_type": "error",
          "ename": "KeyboardInterrupt",
          "evalue": "",
          "traceback": [
            "\u001b[0;31m---------------------------------------------------------------------------\u001b[0m",
            "\u001b[0;31mKeyboardInterrupt\u001b[0m                         Traceback (most recent call last)",
            "\u001b[0;32m<ipython-input-45-b028fb0f18ee>\u001b[0m in \u001b[0;36m<cell line: 10>\u001b[0;34m()\u001b[0m\n\u001b[1;32m      8\u001b[0m \u001b[0;34m\u001b[0m\u001b[0m\n\u001b[1;32m      9\u001b[0m \u001b[0;34m\u001b[0m\u001b[0m\n\u001b[0;32m---> 10\u001b[0;31m quality_report = evaluate_quality(\n\u001b[0m\u001b[1;32m     11\u001b[0m     \u001b[0mreal_data\u001b[0m\u001b[0;34m=\u001b[0m\u001b[0mtrain_new\u001b[0m\u001b[0;34m.\u001b[0m\u001b[0mdrop\u001b[0m\u001b[0;34m(\u001b[0m\u001b[0mcolumns\u001b[0m\u001b[0;34m=\u001b[0m\u001b[0;34m[\u001b[0m\u001b[0;34m'Time_difference'\u001b[0m\u001b[0;34m]\u001b[0m\u001b[0;34m)\u001b[0m\u001b[0;34m,\u001b[0m\u001b[0;34m\u001b[0m\u001b[0;34m\u001b[0m\u001b[0m\n\u001b[1;32m     12\u001b[0m     \u001b[0msynthetic_data\u001b[0m\u001b[0;34m=\u001b[0m\u001b[0mall_synthetic_data_ctgan\u001b[0m\u001b[0;34m,\u001b[0m\u001b[0;34m\u001b[0m\u001b[0;34m\u001b[0m\u001b[0m\n",
            "\u001b[0;32m/usr/local/lib/python3.10/dist-packages/sdv/evaluation/single_table.py\u001b[0m in \u001b[0;36mevaluate_quality\u001b[0;34m(real_data, synthetic_data, metadata, verbose)\u001b[0m\n\u001b[1;32m     28\u001b[0m     \"\"\"\n\u001b[1;32m     29\u001b[0m     \u001b[0mquality_report\u001b[0m \u001b[0;34m=\u001b[0m \u001b[0mQualityReport\u001b[0m\u001b[0;34m(\u001b[0m\u001b[0;34m)\u001b[0m\u001b[0;34m\u001b[0m\u001b[0;34m\u001b[0m\u001b[0m\n\u001b[0;32m---> 30\u001b[0;31m     \u001b[0mquality_report\u001b[0m\u001b[0;34m.\u001b[0m\u001b[0mgenerate\u001b[0m\u001b[0;34m(\u001b[0m\u001b[0mreal_data\u001b[0m\u001b[0;34m,\u001b[0m \u001b[0msynthetic_data\u001b[0m\u001b[0;34m,\u001b[0m \u001b[0mmetadata\u001b[0m\u001b[0;34m.\u001b[0m\u001b[0mto_dict\u001b[0m\u001b[0;34m(\u001b[0m\u001b[0;34m)\u001b[0m\u001b[0;34m,\u001b[0m \u001b[0mverbose\u001b[0m\u001b[0;34m)\u001b[0m\u001b[0;34m\u001b[0m\u001b[0;34m\u001b[0m\u001b[0m\n\u001b[0m\u001b[1;32m     31\u001b[0m     \u001b[0;32mreturn\u001b[0m \u001b[0mquality_report\u001b[0m\u001b[0;34m\u001b[0m\u001b[0;34m\u001b[0m\u001b[0m\n\u001b[1;32m     32\u001b[0m \u001b[0;34m\u001b[0m\u001b[0m\n",
            "\u001b[0;32m/usr/local/lib/python3.10/dist-packages/sdmetrics/reports/base_report.py\u001b[0m in \u001b[0;36mgenerate\u001b[0;34m(self, real_data, synthetic_data, metadata, verbose)\u001b[0m\n\u001b[1;32m    181\u001b[0m                 )\n\u001b[1;32m    182\u001b[0m \u001b[0;34m\u001b[0m\u001b[0m\n\u001b[0;32m--> 183\u001b[0;31m             score = self._properties[property_name].get_score(\n\u001b[0m\u001b[1;32m    184\u001b[0m                 \u001b[0mreal_data\u001b[0m\u001b[0;34m,\u001b[0m \u001b[0msynthetic_data\u001b[0m\u001b[0;34m,\u001b[0m \u001b[0mmetadata\u001b[0m\u001b[0;34m,\u001b[0m \u001b[0mprogress_bar\u001b[0m\u001b[0;34m=\u001b[0m\u001b[0mprogress_bar\u001b[0m\u001b[0;34m\u001b[0m\u001b[0;34m\u001b[0m\u001b[0m\n\u001b[1;32m    185\u001b[0m             )\n",
            "\u001b[0;32m/usr/local/lib/python3.10/dist-packages/sdmetrics/reports/single_table/_properties/base.py\u001b[0m in \u001b[0;36mget_score\u001b[0;34m(self, real_data, synthetic_data, metadata, progress_bar)\u001b[0m\n\u001b[1;32m     53\u001b[0m                 \u001b[0mThe\u001b[0m \u001b[0maverage\u001b[0m \u001b[0mscore\u001b[0m \u001b[0;32mfor\u001b[0m \u001b[0mthe\u001b[0m \u001b[0mproperty\u001b[0m\u001b[0;34m.\u001b[0m\u001b[0;34m\u001b[0m\u001b[0;34m\u001b[0m\u001b[0m\n\u001b[1;32m     54\u001b[0m         \"\"\"\n\u001b[0;32m---> 55\u001b[0;31m         \u001b[0mself\u001b[0m\u001b[0;34m.\u001b[0m\u001b[0mdetails\u001b[0m \u001b[0;34m=\u001b[0m \u001b[0mself\u001b[0m\u001b[0;34m.\u001b[0m\u001b[0m_generate_details\u001b[0m\u001b[0;34m(\u001b[0m\u001b[0mreal_data\u001b[0m\u001b[0;34m,\u001b[0m \u001b[0msynthetic_data\u001b[0m\u001b[0;34m,\u001b[0m \u001b[0mmetadata\u001b[0m\u001b[0;34m,\u001b[0m \u001b[0mprogress_bar\u001b[0m\u001b[0;34m)\u001b[0m\u001b[0;34m\u001b[0m\u001b[0;34m\u001b[0m\u001b[0m\n\u001b[0m\u001b[1;32m     56\u001b[0m         \u001b[0;32mreturn\u001b[0m \u001b[0mself\u001b[0m\u001b[0;34m.\u001b[0m\u001b[0m_compute_average\u001b[0m\u001b[0;34m(\u001b[0m\u001b[0;34m)\u001b[0m\u001b[0;34m\u001b[0m\u001b[0;34m\u001b[0m\u001b[0m\n\u001b[1;32m     57\u001b[0m \u001b[0;34m\u001b[0m\u001b[0m\n",
            "\u001b[0;32m/usr/local/lib/python3.10/dist-packages/sdmetrics/reports/single_table/_properties/column_pair_trends.py\u001b[0m in \u001b[0;36m_generate_details\u001b[0;34m(self, real_data, synthetic_data, metadata, progress_bar, column_pairs)\u001b[0m\n\u001b[1;32m    285\u001b[0m                     \u001b[0;32mraise\u001b[0m \u001b[0mException\u001b[0m\u001b[0;34m(\u001b[0m\u001b[0;34m'Preprocessing failed'\u001b[0m\u001b[0;34m)\u001b[0m\u001b[0;34m\u001b[0m\u001b[0;34m\u001b[0m\u001b[0m\n\u001b[1;32m    286\u001b[0m \u001b[0;34m\u001b[0m\u001b[0m\n\u001b[0;32m--> 287\u001b[0;31m                 score_breakdown = metric.compute_breakdown(\n\u001b[0m\u001b[1;32m    288\u001b[0m                     \u001b[0mreal_data\u001b[0m\u001b[0;34m=\u001b[0m\u001b[0mcolumns_real\u001b[0m\u001b[0;34m,\u001b[0m \u001b[0msynthetic_data\u001b[0m\u001b[0;34m=\u001b[0m\u001b[0mcolumns_synthetic\u001b[0m\u001b[0;34m\u001b[0m\u001b[0;34m\u001b[0m\u001b[0m\n\u001b[1;32m    289\u001b[0m                 )\n",
            "\u001b[0;32m/usr/local/lib/python3.10/dist-packages/sdmetrics/column_pairs/base.py\u001b[0m in \u001b[0;36mcompute_breakdown\u001b[0;34m(cls, real_data, synthetic_data)\u001b[0m\n\u001b[1;32m     57\u001b[0m                 \u001b[0mA\u001b[0m \u001b[0mmapping\u001b[0m \u001b[0mof\u001b[0m \u001b[0mthe\u001b[0m \u001b[0mmetric\u001b[0m \u001b[0moutput\u001b[0m\u001b[0;34m.\u001b[0m \u001b[0mMust\u001b[0m \u001b[0mcontain\u001b[0m \u001b[0mthe\u001b[0m \u001b[0mkey\u001b[0m \u001b[0;34m'score'\u001b[0m\u001b[0;34m.\u001b[0m\u001b[0;34m\u001b[0m\u001b[0;34m\u001b[0m\u001b[0m\n\u001b[1;32m     58\u001b[0m         \"\"\"\n\u001b[0;32m---> 59\u001b[0;31m         \u001b[0;32mreturn\u001b[0m \u001b[0;34m{\u001b[0m\u001b[0;34m'score'\u001b[0m\u001b[0;34m:\u001b[0m \u001b[0mcls\u001b[0m\u001b[0;34m.\u001b[0m\u001b[0mcompute\u001b[0m\u001b[0;34m(\u001b[0m\u001b[0mreal_data\u001b[0m\u001b[0;34m,\u001b[0m \u001b[0msynthetic_data\u001b[0m\u001b[0;34m)\u001b[0m\u001b[0;34m}\u001b[0m\u001b[0;34m\u001b[0m\u001b[0;34m\u001b[0m\u001b[0m\n\u001b[0m",
            "\u001b[0;32m/usr/local/lib/python3.10/dist-packages/sdmetrics/column_pairs/statistical/contingency_similarity.py\u001b[0m in \u001b[0;36mcompute\u001b[0;34m(cls, real_data, synthetic_data)\u001b[0m\n\u001b[1;32m     76\u001b[0m             \u001b[0mcontingency_real\u001b[0m\u001b[0;34m.\u001b[0m\u001b[0mloc\u001b[0m\u001b[0;34m[\u001b[0m\u001b[0mrow\u001b[0m\u001b[0;34m]\u001b[0m \u001b[0;34m=\u001b[0m \u001b[0;34m[\u001b[0m\u001b[0;36m0\u001b[0m \u001b[0;32mfor\u001b[0m \u001b[0m_\u001b[0m \u001b[0;32min\u001b[0m \u001b[0mrange\u001b[0m\u001b[0;34m(\u001b[0m\u001b[0mlen\u001b[0m\u001b[0;34m(\u001b[0m\u001b[0mcontingency_real\u001b[0m\u001b[0;34m.\u001b[0m\u001b[0mcolumns\u001b[0m\u001b[0;34m)\u001b[0m\u001b[0;34m)\u001b[0m\u001b[0;34m]\u001b[0m\u001b[0;34m\u001b[0m\u001b[0;34m\u001b[0m\u001b[0m\n\u001b[1;32m     77\u001b[0m         \u001b[0;32mfor\u001b[0m \u001b[0mrow\u001b[0m \u001b[0;32min\u001b[0m \u001b[0mset\u001b[0m\u001b[0;34m(\u001b[0m\u001b[0mcontingency_real\u001b[0m\u001b[0;34m.\u001b[0m\u001b[0mindex\u001b[0m\u001b[0;34m)\u001b[0m \u001b[0;34m-\u001b[0m \u001b[0mset\u001b[0m\u001b[0;34m(\u001b[0m\u001b[0mcontingency_synthetic\u001b[0m\u001b[0;34m.\u001b[0m\u001b[0mindex\u001b[0m\u001b[0;34m)\u001b[0m\u001b[0;34m:\u001b[0m\u001b[0;34m\u001b[0m\u001b[0;34m\u001b[0m\u001b[0m\n\u001b[0;32m---> 78\u001b[0;31m             \u001b[0mcontingency_synthetic\u001b[0m\u001b[0;34m.\u001b[0m\u001b[0mloc\u001b[0m\u001b[0;34m[\u001b[0m\u001b[0mrow\u001b[0m\u001b[0;34m]\u001b[0m \u001b[0;34m=\u001b[0m \u001b[0;34m[\u001b[0m\u001b[0;36m0\u001b[0m \u001b[0;32mfor\u001b[0m \u001b[0m_\u001b[0m \u001b[0;32min\u001b[0m \u001b[0mrange\u001b[0m\u001b[0;34m(\u001b[0m\u001b[0mlen\u001b[0m\u001b[0;34m(\u001b[0m\u001b[0mcontingency_synthetic\u001b[0m\u001b[0;34m.\u001b[0m\u001b[0mcolumns\u001b[0m\u001b[0;34m)\u001b[0m\u001b[0;34m)\u001b[0m\u001b[0;34m]\u001b[0m\u001b[0;34m\u001b[0m\u001b[0;34m\u001b[0m\u001b[0m\n\u001b[0m\u001b[1;32m     79\u001b[0m \u001b[0;34m\u001b[0m\u001b[0m\n\u001b[1;32m     80\u001b[0m         \u001b[0mvariation\u001b[0m \u001b[0;34m=\u001b[0m \u001b[0mabs\u001b[0m\u001b[0;34m(\u001b[0m\u001b[0mcontingency_real\u001b[0m \u001b[0;34m-\u001b[0m \u001b[0mcontingency_synthetic\u001b[0m\u001b[0;34m)\u001b[0m \u001b[0;34m/\u001b[0m \u001b[0;36m2\u001b[0m\u001b[0;34m\u001b[0m\u001b[0;34m\u001b[0m\u001b[0m\n",
            "\u001b[0;32m/usr/local/lib/python3.10/dist-packages/pandas/core/indexing.py\u001b[0m in \u001b[0;36m__setitem__\u001b[0;34m(self, key, value)\u001b[0m\n\u001b[1;32m    883\u001b[0m \u001b[0;34m\u001b[0m\u001b[0m\n\u001b[1;32m    884\u001b[0m         \u001b[0miloc\u001b[0m \u001b[0;34m=\u001b[0m \u001b[0mself\u001b[0m \u001b[0;32mif\u001b[0m \u001b[0mself\u001b[0m\u001b[0;34m.\u001b[0m\u001b[0mname\u001b[0m \u001b[0;34m==\u001b[0m \u001b[0;34m\"iloc\"\u001b[0m \u001b[0;32melse\u001b[0m \u001b[0mself\u001b[0m\u001b[0;34m.\u001b[0m\u001b[0mobj\u001b[0m\u001b[0;34m.\u001b[0m\u001b[0miloc\u001b[0m\u001b[0;34m\u001b[0m\u001b[0;34m\u001b[0m\u001b[0m\n\u001b[0;32m--> 885\u001b[0;31m         \u001b[0miloc\u001b[0m\u001b[0;34m.\u001b[0m\u001b[0m_setitem_with_indexer\u001b[0m\u001b[0;34m(\u001b[0m\u001b[0mindexer\u001b[0m\u001b[0;34m,\u001b[0m \u001b[0mvalue\u001b[0m\u001b[0;34m,\u001b[0m \u001b[0mself\u001b[0m\u001b[0;34m.\u001b[0m\u001b[0mname\u001b[0m\u001b[0;34m)\u001b[0m\u001b[0;34m\u001b[0m\u001b[0;34m\u001b[0m\u001b[0m\n\u001b[0m\u001b[1;32m    886\u001b[0m \u001b[0;34m\u001b[0m\u001b[0m\n\u001b[1;32m    887\u001b[0m     \u001b[0;32mdef\u001b[0m \u001b[0m_validate_key\u001b[0m\u001b[0;34m(\u001b[0m\u001b[0mself\u001b[0m\u001b[0;34m,\u001b[0m \u001b[0mkey\u001b[0m\u001b[0;34m,\u001b[0m \u001b[0maxis\u001b[0m\u001b[0;34m:\u001b[0m \u001b[0mAxisInt\u001b[0m\u001b[0;34m)\u001b[0m\u001b[0;34m:\u001b[0m\u001b[0;34m\u001b[0m\u001b[0;34m\u001b[0m\u001b[0m\n",
            "\u001b[0;32m/usr/local/lib/python3.10/dist-packages/pandas/core/indexing.py\u001b[0m in \u001b[0;36m_setitem_with_indexer\u001b[0;34m(self, indexer, value, name)\u001b[0m\n\u001b[1;32m   1881\u001b[0m \u001b[0;34m\u001b[0m\u001b[0m\n\u001b[1;32m   1882\u001b[0m             \u001b[0;32mif\u001b[0m \u001b[0mmissing\u001b[0m\u001b[0;34m:\u001b[0m\u001b[0;34m\u001b[0m\u001b[0;34m\u001b[0m\u001b[0m\n\u001b[0;32m-> 1883\u001b[0;31m                 \u001b[0mself\u001b[0m\u001b[0;34m.\u001b[0m\u001b[0m_setitem_with_indexer_missing\u001b[0m\u001b[0;34m(\u001b[0m\u001b[0mindexer\u001b[0m\u001b[0;34m,\u001b[0m \u001b[0mvalue\u001b[0m\u001b[0;34m)\u001b[0m\u001b[0;34m\u001b[0m\u001b[0;34m\u001b[0m\u001b[0m\n\u001b[0m\u001b[1;32m   1884\u001b[0m                 \u001b[0;32mreturn\u001b[0m\u001b[0;34m\u001b[0m\u001b[0;34m\u001b[0m\u001b[0m\n\u001b[1;32m   1885\u001b[0m \u001b[0;34m\u001b[0m\u001b[0m\n",
            "\u001b[0;32m/usr/local/lib/python3.10/dist-packages/pandas/core/indexing.py\u001b[0m in \u001b[0;36m_setitem_with_indexer_missing\u001b[0;34m(self, indexer, value)\u001b[0m\n\u001b[1;32m   2239\u001b[0m                 \u001b[0mself\u001b[0m\u001b[0;34m.\u001b[0m\u001b[0mobj\u001b[0m\u001b[0;34m.\u001b[0m\u001b[0m_mgr\u001b[0m \u001b[0;34m=\u001b[0m \u001b[0mdf\u001b[0m\u001b[0;34m.\u001b[0m\u001b[0m_mgr\u001b[0m\u001b[0;34m\u001b[0m\u001b[0;34m\u001b[0m\u001b[0m\n\u001b[1;32m   2240\u001b[0m             \u001b[0;32melse\u001b[0m\u001b[0;34m:\u001b[0m\u001b[0;34m\u001b[0m\u001b[0;34m\u001b[0m\u001b[0m\n\u001b[0;32m-> 2241\u001b[0;31m                 \u001b[0mself\u001b[0m\u001b[0;34m.\u001b[0m\u001b[0mobj\u001b[0m\u001b[0;34m.\u001b[0m\u001b[0m_mgr\u001b[0m \u001b[0;34m=\u001b[0m \u001b[0mself\u001b[0m\u001b[0;34m.\u001b[0m\u001b[0mobj\u001b[0m\u001b[0;34m.\u001b[0m\u001b[0m_append\u001b[0m\u001b[0;34m(\u001b[0m\u001b[0mvalue\u001b[0m\u001b[0;34m)\u001b[0m\u001b[0;34m.\u001b[0m\u001b[0m_mgr\u001b[0m\u001b[0;34m\u001b[0m\u001b[0;34m\u001b[0m\u001b[0m\n\u001b[0m\u001b[1;32m   2242\u001b[0m             \u001b[0mself\u001b[0m\u001b[0;34m.\u001b[0m\u001b[0mobj\u001b[0m\u001b[0;34m.\u001b[0m\u001b[0m_maybe_update_cacher\u001b[0m\u001b[0;34m(\u001b[0m\u001b[0mclear\u001b[0m\u001b[0;34m=\u001b[0m\u001b[0;32mTrue\u001b[0m\u001b[0;34m)\u001b[0m\u001b[0;34m\u001b[0m\u001b[0;34m\u001b[0m\u001b[0m\n\u001b[1;32m   2243\u001b[0m \u001b[0;34m\u001b[0m\u001b[0m\n",
            "\u001b[0;32m/usr/local/lib/python3.10/dist-packages/pandas/core/frame.py\u001b[0m in \u001b[0;36m_append\u001b[0;34m(self, other, ignore_index, verify_integrity, sort)\u001b[0m\n\u001b[1;32m  10222\u001b[0m             \u001b[0mto_concat\u001b[0m \u001b[0;34m=\u001b[0m \u001b[0;34m[\u001b[0m\u001b[0mself\u001b[0m\u001b[0;34m,\u001b[0m \u001b[0mother\u001b[0m\u001b[0;34m]\u001b[0m\u001b[0;34m\u001b[0m\u001b[0;34m\u001b[0m\u001b[0m\n\u001b[1;32m  10223\u001b[0m \u001b[0;34m\u001b[0m\u001b[0m\n\u001b[0;32m> 10224\u001b[0;31m         result = concat(\n\u001b[0m\u001b[1;32m  10225\u001b[0m             \u001b[0mto_concat\u001b[0m\u001b[0;34m,\u001b[0m\u001b[0;34m\u001b[0m\u001b[0;34m\u001b[0m\u001b[0m\n\u001b[1;32m  10226\u001b[0m             \u001b[0mignore_index\u001b[0m\u001b[0;34m=\u001b[0m\u001b[0mignore_index\u001b[0m\u001b[0;34m,\u001b[0m\u001b[0;34m\u001b[0m\u001b[0;34m\u001b[0m\u001b[0m\n",
            "\u001b[0;32m/usr/local/lib/python3.10/dist-packages/pandas/core/reshape/concat.py\u001b[0m in \u001b[0;36mconcat\u001b[0;34m(objs, axis, join, ignore_index, keys, levels, names, verify_integrity, sort, copy)\u001b[0m\n\u001b[1;32m    391\u001b[0m     )\n\u001b[1;32m    392\u001b[0m \u001b[0;34m\u001b[0m\u001b[0m\n\u001b[0;32m--> 393\u001b[0;31m     \u001b[0;32mreturn\u001b[0m \u001b[0mop\u001b[0m\u001b[0;34m.\u001b[0m\u001b[0mget_result\u001b[0m\u001b[0;34m(\u001b[0m\u001b[0;34m)\u001b[0m\u001b[0;34m\u001b[0m\u001b[0;34m\u001b[0m\u001b[0m\n\u001b[0m\u001b[1;32m    394\u001b[0m \u001b[0;34m\u001b[0m\u001b[0m\n\u001b[1;32m    395\u001b[0m \u001b[0;34m\u001b[0m\u001b[0m\n",
            "\u001b[0;32m/usr/local/lib/python3.10/dist-packages/pandas/core/reshape/concat.py\u001b[0m in \u001b[0;36mget_result\u001b[0;34m(self)\u001b[0m\n\u001b[1;32m    678\u001b[0m                 \u001b[0mmgrs_indexers\u001b[0m\u001b[0;34m.\u001b[0m\u001b[0mappend\u001b[0m\u001b[0;34m(\u001b[0m\u001b[0;34m(\u001b[0m\u001b[0mobj\u001b[0m\u001b[0;34m.\u001b[0m\u001b[0m_mgr\u001b[0m\u001b[0;34m,\u001b[0m \u001b[0mindexers\u001b[0m\u001b[0;34m)\u001b[0m\u001b[0;34m)\u001b[0m\u001b[0;34m\u001b[0m\u001b[0;34m\u001b[0m\u001b[0m\n\u001b[1;32m    679\u001b[0m \u001b[0;34m\u001b[0m\u001b[0m\n\u001b[0;32m--> 680\u001b[0;31m             new_data = concatenate_managers(\n\u001b[0m\u001b[1;32m    681\u001b[0m                 \u001b[0mmgrs_indexers\u001b[0m\u001b[0;34m,\u001b[0m \u001b[0mself\u001b[0m\u001b[0;34m.\u001b[0m\u001b[0mnew_axes\u001b[0m\u001b[0;34m,\u001b[0m \u001b[0mconcat_axis\u001b[0m\u001b[0;34m=\u001b[0m\u001b[0mself\u001b[0m\u001b[0;34m.\u001b[0m\u001b[0mbm_axis\u001b[0m\u001b[0;34m,\u001b[0m \u001b[0mcopy\u001b[0m\u001b[0;34m=\u001b[0m\u001b[0mself\u001b[0m\u001b[0;34m.\u001b[0m\u001b[0mcopy\u001b[0m\u001b[0;34m\u001b[0m\u001b[0;34m\u001b[0m\u001b[0m\n\u001b[1;32m    682\u001b[0m             )\n",
            "\u001b[0;32m/usr/local/lib/python3.10/dist-packages/pandas/core/internals/concat.py\u001b[0m in \u001b[0;36mconcatenate_managers\u001b[0;34m(mgrs_indexers, axes, concat_axis, copy)\u001b[0m\n\u001b[1;32m    155\u001b[0m         \u001b[0;32mreturn\u001b[0m \u001b[0mout\u001b[0m\u001b[0;34m\u001b[0m\u001b[0;34m\u001b[0m\u001b[0m\n\u001b[1;32m    156\u001b[0m \u001b[0;34m\u001b[0m\u001b[0m\n\u001b[0;32m--> 157\u001b[0;31m     \u001b[0mconcat_plan\u001b[0m \u001b[0;34m=\u001b[0m \u001b[0m_get_combined_plan\u001b[0m\u001b[0;34m(\u001b[0m\u001b[0mmgrs\u001b[0m\u001b[0;34m)\u001b[0m\u001b[0;34m\u001b[0m\u001b[0;34m\u001b[0m\u001b[0m\n\u001b[0m\u001b[1;32m    158\u001b[0m \u001b[0;34m\u001b[0m\u001b[0m\n\u001b[1;32m    159\u001b[0m     \u001b[0mblocks\u001b[0m \u001b[0;34m=\u001b[0m \u001b[0;34m[\u001b[0m\u001b[0;34m]\u001b[0m\u001b[0;34m\u001b[0m\u001b[0;34m\u001b[0m\u001b[0m\n",
            "\u001b[0;32m/usr/local/lib/python3.10/dist-packages/pandas/core/internals/concat.py\u001b[0m in \u001b[0;36m_get_combined_plan\u001b[0;34m(mgrs)\u001b[0m\n\u001b[1;32m    302\u001b[0m \u001b[0;34m\u001b[0m\u001b[0m\n\u001b[1;32m    303\u001b[0m     \u001b[0mblknos_list\u001b[0m \u001b[0;34m=\u001b[0m \u001b[0;34m[\u001b[0m\u001b[0mmgr\u001b[0m\u001b[0;34m.\u001b[0m\u001b[0mblknos\u001b[0m \u001b[0;32mfor\u001b[0m \u001b[0mmgr\u001b[0m \u001b[0;32min\u001b[0m \u001b[0mmgrs\u001b[0m\u001b[0;34m]\u001b[0m\u001b[0;34m\u001b[0m\u001b[0;34m\u001b[0m\u001b[0m\n\u001b[0;32m--> 304\u001b[0;31m     \u001b[0mpairs\u001b[0m \u001b[0;34m=\u001b[0m \u001b[0mlibinternals\u001b[0m\u001b[0;34m.\u001b[0m\u001b[0mget_concat_blkno_indexers\u001b[0m\u001b[0;34m(\u001b[0m\u001b[0mblknos_list\u001b[0m\u001b[0;34m)\u001b[0m\u001b[0;34m\u001b[0m\u001b[0;34m\u001b[0m\u001b[0m\n\u001b[0m\u001b[1;32m    305\u001b[0m     \u001b[0;32mfor\u001b[0m \u001b[0mind\u001b[0m\u001b[0;34m,\u001b[0m \u001b[0;34m(\u001b[0m\u001b[0mblknos\u001b[0m\u001b[0;34m,\u001b[0m \u001b[0mbp\u001b[0m\u001b[0;34m)\u001b[0m \u001b[0;32min\u001b[0m \u001b[0menumerate\u001b[0m\u001b[0;34m(\u001b[0m\u001b[0mpairs\u001b[0m\u001b[0;34m)\u001b[0m\u001b[0;34m:\u001b[0m\u001b[0;34m\u001b[0m\u001b[0;34m\u001b[0m\u001b[0m\n\u001b[1;32m    306\u001b[0m         \u001b[0;31m# assert bp.is_slice_like\u001b[0m\u001b[0;34m\u001b[0m\u001b[0;34m\u001b[0m\u001b[0m\n",
            "\u001b[0;31mKeyboardInterrupt\u001b[0m: "
          ]
        }
      ]
    },
    {
      "cell_type": "code",
      "source": [
        "# 모든 합성 데이터를 저장할 DataFrame 초기화\n",
        "all_synthetic_data_tvae = pd.DataFrame()\n",
        "\n",
        "# 각 Fraud_Type에 대해 합성 데이터 생성 및 저장\n",
        "for fraud_type in tqdm(fraud_types):\n",
        "\n",
        "    # 해당 Fraud_Type에 대한 서브셋 생성\n",
        "    subset = train_new[train_new[\"Fraud_Type\"] == fraud_type]\n",
        "\n",
        "    # 모든 Fraud_Type에 대해 100개씩 샘플링\n",
        "    subset = subset.sample(n=N_SAMPLE, random_state=42)\n",
        "\n",
        "    # Time_difference 열 제외 (초 단위로 변환된 컬럼만 사용)\n",
        "    subset = subset.drop('Time_difference', axis=1)\n",
        "\n",
        "    # 메타데이터 생성 및 모델 학습\n",
        "    metadata = SingleTableMetadata()\n",
        "\n",
        "    metadata.detect_from_dataframe(subset)\n",
        "    metadata.set_primary_key(None)\n",
        "\n",
        "    # 데이터 타입 설정\n",
        "    column_sdtypes = {\n",
        "        'Account_initial_balance': 'numerical',\n",
        "        'Account_balance': 'numerical',\n",
        "        'Customer_identification_number': 'categorical',\n",
        "        'Customer_personal_identifier': 'categorical',\n",
        "        'Account_account_number': 'categorical',\n",
        "        'IP_Address': 'ipv4_address',\n",
        "        'Location': 'categorical',\n",
        "        'Recipient_Account_Number': 'categorical',\n",
        "        'Fraud_Type': 'categorical',\n",
        "        'Time_difference_seconds': 'numerical',\n",
        "        'Customer_Birthyear': 'numerical'\n",
        "    }\n",
        "\n",
        "    # 각 컬럼에 대해 데이터 타입 설정\n",
        "    for column, sdtype in column_sdtypes.items():\n",
        "        metadata.update_column(\n",
        "            column_name=column,\n",
        "            sdtype=sdtype\n",
        "        )\n",
        "\n",
        "    synthesizer = TVAESynthesizer(\n",
        "                            metadata,\n",
        "                            epochs=100\n",
        "                        )\n",
        "    synthesizer.fit(subset)\n",
        "\n",
        "    synthetic_subset = synthesizer.sample(num_rows=N_CLS_PER_GEN)\n",
        "\n",
        "\n",
        "    # 생성된 데이터를 all_synthetic_data에 추가\n",
        "    all_synthetic_data_tvae = pd.concat([all_synthetic_data_tvae, synthetic_subset], ignore_index=True)\n"
      ],
      "metadata": {
        "id": "_C-8mGitsn98"
      },
      "execution_count": null,
      "outputs": []
    },
    {
      "cell_type": "code",
      "source": [
        "diagnostic_report = run_diagnostic(\n",
        "    real_data=train_new.drop(columns=['Time_difference']),\n",
        "    synthetic_data=all_synthetic_data_tvae,\n",
        "    metadata=metadata)\n",
        "\n",
        "diagnostic_report.get_details(property_name='Data Validity')\n",
        "diagnostic_report.get_details(property_name='Data Structure')\n",
        "\n",
        "\n",
        "quality_report = evaluate_quality(\n",
        "    real_data=train_new.drop(columns=['Time_difference']),\n",
        "    synthetic_data=all_synthetic_data_tvae,\n",
        "    metadata=metadata)\n",
        "\n",
        "quality_report.get_details(property_name='Column Shapes')\n",
        "quality_report.get_details(property_name='Column Pair Trends')\n",
        "\n",
        "quality_report.save(filepath=f'results/{datetime.now()}_quality_report.pkl')\n",
        "diagnostic_report.save(filepath=f'results/{datetime.now()}_diagnostic_report.pkl')\n",
        "\n",
        "synthesizer.save(\n",
        "    filepath=f'{datetime.now()}_tvae_synthesizer.pkl'\n",
        ")datetime\n",
        "\n",
        "fig = synthesizer.get_loss_values_plot()\n",
        "fig.show()"
      ],
      "metadata": {
        "id": "l46i5X9k34yP"
      },
      "execution_count": null,
      "outputs": []
    }
  ],
  "metadata": {
    "colab": {
      "provenance": []
    },
    "kernelspec": {
      "display_name": "Python 3",
      "name": "python3"
    },
    "language_info": {
      "codemirror_mode": {
        "name": "ipython",
        "version": 3
      },
      "file_extension": ".py",
      "mimetype": "text/x-python",
      "name": "python",
      "nbconvert_exporter": "python",
      "pygments_lexer": "ipython3",
      "version": "3.9.17"
    }
  },
  "nbformat": 4,
  "nbformat_minor": 0
}