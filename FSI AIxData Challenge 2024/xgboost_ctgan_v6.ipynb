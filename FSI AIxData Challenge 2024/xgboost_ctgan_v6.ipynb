{
 "cells": [
  {
   "cell_type": "markdown",
   "metadata": {},
   "source": [
    "# Anomalous Financial Transaction Detection\n",
    "\n",
    "본 대회의 과제는 금융 거래 데이터에서 **이상 거래를 탐지하는 기능**을 개선하고 활용도를 높이는 분류 AI모델을 개발하는 것입니다. \n",
    "\n",
    "특히, 클래스 불균형 문제를 해결하기 위해 오픈소스 생성형 AI 모델을 활용하여 부족한 클래스의 데이터를 보완하고, 이를 통해 분류 모델의 성능을 향상시키는 것이 핵심 목표입니다. \n",
    "\n",
    "이러한 접근을 통해 금융보안에 특화된 데이터 분석 및 활용 역량을 강화하여 전문 인력을 양성하고, 금융권의 AI 활용 어려움에 따른 해결 방안을 함께 모색하며 금융 산업의 AI 활용 활성화를 지원하는 것을 목표로 합니다.\n"
   ]
  },
  {
   "cell_type": "markdown",
   "metadata": {},
   "source": [
    "# 전략\n",
    "\n",
    "## 1. 좋은 학습 데이터 생성(생성형 AI)\n",
    "\n",
    "- 좋은 생성 데이터 : 원본 데이터랑 겹치지 않는 데이터 (특정 열의 값이 같은 경우, 나머지 값들도 같은 경우가 적은 상태)\n",
    "    - 생성형 AI 모델 비교 및 선택\n",
    "        - ctgan, tvae\n",
    "        - ctab-ga, g-ctgan, vaem : 논문 참고해 구현 필요\n",
    "\n",
    "    - 생성형 AI 데이터 비율 조정해보기\n",
    "\n",
    "## 2. 이상치 처리 \n",
    "\n",
    "- z-score \n",
    "    - 다른 분포로 가정해보기 (KDE로 분포 찾기?)\n",
    "\n",
    "## 3. 좋은 분류 모델\n",
    "\n",
    "xgboost - baseline\n",
    "\n",
    "- 딥러닝 모델 :  tabnet(특성 중요도 표시 가능), wide&deep(추천시스템)\n",
    "- 로지스틱 회귀\n",
    "- 다양한 분류 모델 짬뽕 (multiple classifier system)\n",
    "- 머신러닝 모델 : xgboost, adaboost, ...\n",
    "\n",
    "## 4.  특성 공학\n",
    "\n",
    "- 데이터 처리\n",
    "    - 데이터 정규화 (z-score 이용하는게 좋은 듯. test 데이터에서 이상치 발생할 수 있으므로)\n",
    "\n",
    "- 특성 재조립\n",
    "    - 마지막 영업점 / ATM 거래 일자 차이\n",
    "    - 거래발생 위치 -> 시군구 분리 후 특성으로 활용\n",
    "    - 범주의 개수가 3개 이상인 데이터들은 ordinal 이 아닌 군집화 후 one hot vector 로 변환\n",
    "\n",
    "## 5. 기타 금융 이상거래 도메인 지식\n",
    "\n",
    "- 특징?"
   ]
  },
  {
   "cell_type": "code",
   "execution_count": 1,
   "metadata": {},
   "outputs": [],
   "source": [
    "# Import Library\n",
    "# 제출 파일 생성 관련\n",
    "import os\n",
    "import zipfile\n",
    "\n",
    "# 데이터 처리 및 분석\n",
    "import pandas as pd\n",
    "import numpy as np\n",
    "from scipy import stats\n",
    "from tqdm import tqdm\n",
    "import seaborn as sns\n",
    "from matplotlib import pyplot as plt\n",
    "import datetime\n",
    "\n",
    "# 머신러닝 전처리\n",
    "from sklearn.preprocessing import LabelEncoder, OneHotEncoder\n",
    "from sklearn.preprocessing import StandardScaler\n",
    "from sklearn.model_selection import StratifiedKFold\n",
    "from sklearn.compose import ColumnTransformer\n",
    "from sklearn.metrics import f1_score\n",
    "\n",
    "# 분류 모델\n",
    "import xgboost as xgb\n",
    "\n",
    "# 모델 저장\n",
    "import joblib\n",
    "\n",
    "# 합성 데이터 생성\n",
    "from sdv.metadata import SingleTableMetadata\n",
    "from sdv.single_table import CTGANSynthesizer\n",
    "from sdv.single_table import TVAESynthesizer\n",
    "from sklearn.preprocessing import KBinsDiscretizer\n",
    "\n",
    "# To ignore all warnings\n",
    "import warnings\n",
    "warnings.filterwarnings('ignore')\n",
    "\n",
    "\n"
   ]
  },
  {
   "cell_type": "markdown",
   "metadata": {},
   "source": [
    "# 데이터 전처리"
   ]
  },
  {
   "cell_type": "code",
   "execution_count": 2,
   "metadata": {},
   "outputs": [
    {
     "data": {
      "text/plain": [
       "'\\n(*) 리더보드 산식 중 생성데이터의 익명성(TCAP)채점을 위해 각 클래스 별로 1000개의 생성데이터가 반드시 필요합니다.\\n(*) 본 베이스 라인에서는 \"Fraud_Type\" 13종류에 대해 1000개씩 , 총 13,000개의 데이터를 생성할 예정입니다.\\n(*) 분류 모델 성능 개선을 위해 생성 데이터를 활용하는 것에는 생성 데이터의 Row 개수에 제한이 없습니다. 단, 리더보드 평가를 위해 제출을 하는 생성 데이터 프레임은 익명성(TCAP) 평가를 위함이며, 위의 조건을 갖춘 생성 데이터를 제출해야합니다.\\n'"
      ]
     },
     "execution_count": 2,
     "metadata": {},
     "output_type": "execute_result"
    }
   ],
   "source": [
    "\n",
    "# 생성 🏭\n",
    "# Load Data\n",
    "train_all = pd.read_csv(\"./train.csv\")\n",
    "test_all = pd.read_csv(\"./test.csv\")\n",
    "train = train_all.drop(columns=\"ID\")\n",
    "train[\"Fraud_Type\"].value_counts()\n",
    "'''\n",
    "(*) 리더보드 산식 중 생성데이터의 익명성(TCAP)채점을 위해 각 클래스 별로 1000개의 생성데이터가 반드시 필요합니다.\n",
    "(*) 본 베이스 라인에서는 \"Fraud_Type\" 13종류에 대해 1000개씩 , 총 13,000개의 데이터를 생성할 예정입니다.\n",
    "(*) 분류 모델 성능 개선을 위해 생성 데이터를 활용하는 것에는 생성 데이터의 Row 개수에 제한이 없습니다. 단, 리더보드 평가를 위해 제출을 하는 생성 데이터 프레임은 익명성(TCAP) 평가를 위함이며, 위의 조건을 갖춘 생성 데이터를 제출해야합니다.\n",
    "'''"
   ]
  },
  {
   "cell_type": "code",
   "execution_count": 3,
   "metadata": {},
   "outputs": [
    {
     "name": "stdout",
     "output_type": "stream",
     "text": [
      "<class 'pandas.core.frame.DataFrame'>\n",
      "RangeIndex: 120000 entries, 0 to 119999\n",
      "Data columns (total 63 columns):\n",
      " #   Column                                         Non-Null Count   Dtype  \n",
      "---  ------                                         --------------   -----  \n",
      " 0   Customer_Birthyear                             120000 non-null  int64  \n",
      " 1   Customer_Gender                                120000 non-null  object \n",
      " 2   Customer_personal_identifier                   120000 non-null  object \n",
      " 3   Customer_identification_number                 120000 non-null  object \n",
      " 4   Customer_registration_datetime                 120000 non-null  object \n",
      " 5   Customer_credit_rating                         120000 non-null  object \n",
      " 6   Customer_flag_change_of_authentication_1       120000 non-null  int64  \n",
      " 7   Customer_flag_change_of_authentication_2       120000 non-null  int64  \n",
      " 8   Customer_flag_change_of_authentication_3       120000 non-null  int64  \n",
      " 9   Customer_flag_change_of_authentication_4       120000 non-null  int64  \n",
      " 10  Customer_rooting_jailbreak_indicator           120000 non-null  int64  \n",
      " 11  Customer_mobile_roaming_indicator              120000 non-null  int64  \n",
      " 12  Customer_VPN_Indicator                         120000 non-null  int64  \n",
      " 13  Customer_loan_type                             120000 non-null  object \n",
      " 14  Customer_flag_terminal_malicious_behavior_1    120000 non-null  int64  \n",
      " 15  Customer_flag_terminal_malicious_behavior_2    120000 non-null  int64  \n",
      " 16  Customer_flag_terminal_malicious_behavior_3    120000 non-null  int64  \n",
      " 17  Customer_flag_terminal_malicious_behavior_4    120000 non-null  int64  \n",
      " 18  Customer_flag_terminal_malicious_behavior_5    120000 non-null  int64  \n",
      " 19  Customer_flag_terminal_malicious_behavior_6    120000 non-null  int64  \n",
      " 20  Customer_inquery_atm_limit                     120000 non-null  int64  \n",
      " 21  Customer_increase_atm_limit                    120000 non-null  int64  \n",
      " 22  Account_account_number                         120000 non-null  object \n",
      " 23  Account_account_type                           120000 non-null  object \n",
      " 24  Account_creation_datetime                      120000 non-null  object \n",
      " 25  Account_initial_balance                        120000 non-null  int64  \n",
      " 26  Account_balance                                120000 non-null  int64  \n",
      " 27  Account_indicator_release_limit_excess         120000 non-null  int64  \n",
      " 28  Account_amount_daily_limit                     120000 non-null  int64  \n",
      " 29  Account_indicator_Openbanking                  120000 non-null  int64  \n",
      " 30  Account_remaining_amount_daily_limit_exceeded  120000 non-null  int64  \n",
      " 31  Account_release_suspention                     120000 non-null  int64  \n",
      " 32  Account_one_month_max_amount                   120000 non-null  int64  \n",
      " 33  Account_one_month_std_dev                      120000 non-null  int64  \n",
      " 34  Account_dawn_one_month_max_amount              120000 non-null  int64  \n",
      " 35  Account_dawn_one_month_std_dev                 120000 non-null  int64  \n",
      " 36  Transaction_Datetime                           120000 non-null  object \n",
      " 37  Transaction_Amount                             120000 non-null  int64  \n",
      " 38  Channel                                        120000 non-null  object \n",
      " 39  Operating_System                               120000 non-null  object \n",
      " 40  Error_Code                                     120000 non-null  object \n",
      " 41  Transaction_Failure_Status                     120000 non-null  int64  \n",
      " 42  Type_General_Automatic                         120000 non-null  object \n",
      " 43  IP_Address                                     120000 non-null  object \n",
      " 44  MAC_Address                                    120000 non-null  object \n",
      " 45  Access_Medium                                  120000 non-null  object \n",
      " 46  Location                                       120000 non-null  object \n",
      " 47  Recipient_Account_Number                       120000 non-null  object \n",
      " 48  Transaction_num_connection_failure             120000 non-null  int64  \n",
      " 49  Another_Person_Account                         120000 non-null  int64  \n",
      " 50  Distance                                       120000 non-null  float64\n",
      " 51  Time_difference                                120000 non-null  object \n",
      " 52  Unused_terminal_status                         120000 non-null  int64  \n",
      " 53  Last_atm_transaction_datetime                  120000 non-null  object \n",
      " 54  Last_bank_branch_transaction_datetime          120000 non-null  object \n",
      " 55  Flag_deposit_more_than_tenMillion              120000 non-null  int64  \n",
      " 56  Unused_account_status                          120000 non-null  int64  \n",
      " 57  Recipient_account_suspend_status               120000 non-null  int64  \n",
      " 58  Number_of_transaction_with_the_account         120000 non-null  int64  \n",
      " 59  Transaction_history_with_the_account           120000 non-null  int64  \n",
      " 60  First_time_iOS_by_vulnerable_user              120000 non-null  int64  \n",
      " 61  Fraud_Type                                     120000 non-null  object \n",
      " 62  Transaction_resumed_date                       120000 non-null  object \n",
      "dtypes: float64(1), int64(38), object(24)\n",
      "memory usage: 57.7+ MB\n"
     ]
    }
   ],
   "source": [
    "train.info()"
   ]
  },
  {
   "cell_type": "code",
   "execution_count": 4,
   "metadata": {},
   "outputs": [],
   "source": [
    "obj_cat_columns=[col for col in train.select_dtypes(['object']).columns if train[col].nunique() <= 20]\n",
    "obj_idf_columns=[col for col in train.select_dtypes(['object']).columns if train[col].nunique() >= 20]\n",
    "num_cat_columns=[col for col in train.select_dtypes(['int64', 'float64']).columns if train[col].nunique() <= 20]\n",
    "num_con_columns=[col for col in train.select_dtypes(['int64', 'float64']).columns if train[col].nunique() >= 20]\n",
    "\n",
    "obj_cat_columns.remove('Fraud_Type')"
   ]
  },
  {
   "cell_type": "code",
   "execution_count": 5,
   "metadata": {},
   "outputs": [
    {
     "name": "stdout",
     "output_type": "stream",
     "text": [
      "obj_cat_columns :  ['Customer_Gender', 'Customer_credit_rating', 'Customer_loan_type', 'Account_account_type', 'Channel', 'Operating_System', 'Error_Code', 'Type_General_Automatic', 'Access_Medium']\n",
      "obj_idf_columns :  ['Customer_personal_identifier', 'Customer_identification_number', 'Customer_registration_datetime', 'Account_account_number', 'Account_creation_datetime', 'Transaction_Datetime', 'IP_Address', 'MAC_Address', 'Location', 'Recipient_Account_Number', 'Time_difference', 'Last_atm_transaction_datetime', 'Last_bank_branch_transaction_datetime', 'Transaction_resumed_date']\n",
      "num_cat_columns :  ['Customer_flag_change_of_authentication_1', 'Customer_flag_change_of_authentication_2', 'Customer_flag_change_of_authentication_3', 'Customer_flag_change_of_authentication_4', 'Customer_rooting_jailbreak_indicator', 'Customer_mobile_roaming_indicator', 'Customer_VPN_Indicator', 'Customer_flag_terminal_malicious_behavior_1', 'Customer_flag_terminal_malicious_behavior_2', 'Customer_flag_terminal_malicious_behavior_3', 'Customer_flag_terminal_malicious_behavior_4', 'Customer_flag_terminal_malicious_behavior_5', 'Customer_flag_terminal_malicious_behavior_6', 'Customer_inquery_atm_limit', 'Customer_increase_atm_limit', 'Account_indicator_release_limit_excess', 'Account_amount_daily_limit', 'Account_indicator_Openbanking', 'Account_release_suspention', 'Transaction_Failure_Status', 'Transaction_num_connection_failure', 'Another_Person_Account', 'Unused_terminal_status', 'Flag_deposit_more_than_tenMillion', 'Unused_account_status', 'Recipient_account_suspend_status', 'Number_of_transaction_with_the_account', 'Transaction_history_with_the_account', 'First_time_iOS_by_vulnerable_user']\n",
      "num_con_columns :  ['Customer_Birthyear', 'Account_initial_balance', 'Account_balance', 'Account_remaining_amount_daily_limit_exceeded', 'Account_one_month_max_amount', 'Account_one_month_std_dev', 'Account_dawn_one_month_max_amount', 'Account_dawn_one_month_std_dev', 'Transaction_Amount', 'Distance']\n"
     ]
    }
   ],
   "source": [
    "print('obj_cat_columns : ', obj_cat_columns)\n",
    "print('obj_idf_columns : ', obj_idf_columns)\n",
    "print('num_cat_columns : ', num_cat_columns)\n",
    "print('num_con_columns : ', num_con_columns)"
   ]
  },
  {
   "cell_type": "code",
   "execution_count": 6,
   "metadata": {},
   "outputs": [],
   "source": [
    "import holidays\n",
    "\n",
    "def is_holiday(date):\n",
    "    kr_holidays=holidays.KR(years=date.year)\n",
    "    return int(date in kr_holidays)\n",
    "\n",
    "def timezone(date):\n",
    "    if date.hour>=1 and date.hour<=6:\n",
    "        return 'dawn'\n",
    "    \n",
    "    elif date.hour>=7 and date.hour<=12:\n",
    "        return 'morning'\n",
    "    \n",
    "    elif date.hour>=13 and date.hour<=18:\n",
    "        return 'morning'\n",
    "    \n",
    "    else:\n",
    "        return 'night'\n",
    "\n",
    "# Time_difference 컬럼을 총 초로 변환 및 이상치 처리\n",
    "train['Time_difference_seconds'] = pd.to_timedelta(train['Time_difference']).dt.total_seconds()\n",
    "\n",
    "train['Transaction_Datetime']=pd.to_datetime(train['Transaction_Datetime'])\n",
    "train['Last_bank_branch_transaction_datetime']=pd.to_datetime(train['Last_bank_branch_transaction_datetime'])\n",
    "train['Last_atm_transaction_datetime']=pd.to_datetime(train['Last_atm_transaction_datetime'])\n",
    "\n",
    "train['Customer_malicious_behavior']=(train['Customer_rooting_jailbreak_indicator']+\n",
    "                                    train['Customer_mobile_roaming_indicator']+\n",
    "                                    train['Customer_VPN_Indicator']+\n",
    "                                    train['Customer_flag_terminal_malicious_behavior_1']+\n",
    "                                    train['Customer_flag_terminal_malicious_behavior_2']+\n",
    "                                    train['Customer_flag_terminal_malicious_behavior_3']+\n",
    "                                    train['Customer_flag_terminal_malicious_behavior_4']+\n",
    "                                    train['Customer_flag_terminal_malicious_behavior_5']+\n",
    "                                    train['Customer_flag_terminal_malicious_behavior_6'])\n",
    "\n",
    "train['Customer_change_of_authentication']=(train['Customer_flag_change_of_authentication_1']+\n",
    "                                            train['Customer_flag_change_of_authentication_2']+\n",
    "                                            train['Customer_flag_change_of_authentication_3']+\n",
    "                                            train['Customer_flag_change_of_authentication_4'])\n",
    "\n",
    "train['Account_change']=(train['Account_indicator_release_limit_excess']+\n",
    "                         train['Account_release_suspention']+\n",
    "                         train['Flag_deposit_more_than_tenMillion']+\n",
    "                         train['Unused_account_status']+\n",
    "                         train['Recipient_account_suspend_status'])\n",
    "\n",
    "train['Transaction_Datetime_isholiday']=train['Transaction_Datetime'].apply(is_holiday)\n",
    "train['Transaction_Datetime_day']=train['Transaction_Datetime'].apply(lambda x: x.strftime(\"%A\"))\n",
    "train['Location_District_Size']=train['Location'].apply(lambda x: x.split()[2][-1])\n",
    "train['Last_atm_bank_transaction_time_difference']=(train['Last_bank_branch_transaction_datetime']-train['Last_atm_transaction_datetime']).dt.total_seconds()\n",
    "train['Transaction_Datetime_timezone']=train['Transaction_Datetime'].apply(timezone)\n",
    "train['Account_after_transaction']=train['Account_balance']-train['Account_initial_balance']\n"
   ]
  },
  {
   "cell_type": "code",
   "execution_count": 7,
   "metadata": {},
   "outputs": [],
   "source": [
    "\n",
    "obj_cat_columns=['Location_District_Size', 'Transaction_Datetime_timezone', 'Transaction_Datetime_day','Channel']\n",
    "num_cat_columns=['Transaction_Datetime_isholiday']\n",
    "num_con_columns=['Last_atm_bank_transaction_time_difference','Time_difference_seconds', 'Account_after_transaction',\n",
    "                'Account_change','Customer_change_of_authentication','Customer_malicious_behavior','Transaction_Amount','Distance',\n",
    "                'Number_of_transaction_with_the_account','Transaction_history_with_the_account']\n",
    "\n",
    "\n",
    "# KNN 군집 데이터 추가\n",
    "\n",
    "# obj_idf_columns  에서 가공할 열 : \n",
    "# 'Customer_registration_datetime', 'Account_creation_datetime', 'Transaction_Datetime', : 거래 시간(밤,낮인지), 거래 일자(공휴일 혹은 평일)\n",
    "# 'Location', : 이상 거래가 자주 발생하는 장소 - 시군구로 나누고 시각화해보기\n",
    "# 'Last_atm_transaction_datetime', 'Last_bank_branch_transaction_datetime', 'Transaction_resumed_date' : 연도-월로 나눠 가장 최근으로부터 얼마나 떨어져 있는지 확인"
   ]
  },
  {
   "cell_type": "code",
   "execution_count": 8,
   "metadata": {},
   "outputs": [],
   "source": [
    "model_fit_columns=['Transaction_Amount','Distance','Location_District_Size','Transaction_Datetime_timezone','Transaction_Datetime_day','Transaction_Datetime_isholiday','Last_atm_bank_transaction_time_difference','Time_difference_seconds', 'Account_after_transaction','Account_change','Customer_change_of_authentication','Customer_malicious_behavior','Number_of_transaction_with_the_account','Transaction_history_with_the_account','Channel']"
   ]
  },
  {
   "cell_type": "code",
   "execution_count": 9,
   "metadata": {},
   "outputs": [
    {
     "data": {
      "text/plain": [
       "['Transaction_Amount',\n",
       " 'Distance',\n",
       " 'Location_District_Size',\n",
       " 'Transaction_Datetime_timezone',\n",
       " 'Transaction_Datetime_day',\n",
       " 'Transaction_Datetime_isholiday',\n",
       " 'Last_atm_bank_transaction_time_difference',\n",
       " 'Time_difference_seconds',\n",
       " 'Account_after_transaction',\n",
       " 'Account_change',\n",
       " 'Customer_change_of_authentication',\n",
       " 'Customer_malicious_behavior',\n",
       " 'Number_of_transaction_with_the_account',\n",
       " 'Transaction_history_with_the_account',\n",
       " 'Channel']"
      ]
     },
     "execution_count": 9,
     "metadata": {},
     "output_type": "execute_result"
    }
   ],
   "source": [
    "model_fit_columns"
   ]
  },
  {
   "cell_type": "markdown",
   "metadata": {},
   "source": [
    "# EDA"
   ]
  },
  {
   "cell_type": "code",
   "execution_count": 10,
   "metadata": {},
   "outputs": [],
   "source": [
    "def eda_graph(df, columns, dtype, ncol=5):\n",
    "    nrow=len(columns)//ncol+1\n",
    "    \n",
    "    if nrow==0:\n",
    "        if dtype=='cat':\n",
    "            _, axes= plt.subplots(1, ncol, figsize=(ncol*10,  nrow*3))\n",
    "            for i, col in enumerate(columns):\n",
    "                sns.countplot(data=df, x=col, ax=axes[i])\n",
    "        else:\n",
    "            for i, col in enumerate(columns):\n",
    "                sns.displot(df[col])\n",
    "    else:            \n",
    "        if dtype=='cat':\n",
    "            _, axes= plt.subplots(nrow, ncol, figsize=(ncol*10, nrow*3))\n",
    "            for i, col in enumerate(columns):\n",
    "                sns.countplot(data=df, x=col, ax=axes[i//ncol, i%ncol])\n",
    "        else:\n",
    "            for i, col in enumerate(columns):\n",
    "                sns.displot(df[col])\n",
    "                \n",
    "    plt.tight_layout()"
   ]
  },
  {
   "cell_type": "code",
   "execution_count": 12,
   "metadata": {},
   "outputs": [
    {
     "data": {
      "text/plain": [
       "Fraud_Type\n",
       "m    118800\n",
       "a       100\n",
       "j       100\n",
       "h       100\n",
       "k       100\n",
       "c       100\n",
       "g       100\n",
       "i       100\n",
       "b       100\n",
       "f       100\n",
       "d       100\n",
       "e       100\n",
       "l       100\n",
       "Name: count, dtype: int64"
      ]
     },
     "execution_count": 12,
     "metadata": {},
     "output_type": "execute_result"
    }
   ],
   "source": [
    "train['Fraud_Type'].value_counts()"
   ]
  },
  {
   "cell_type": "code",
   "execution_count": 13,
   "metadata": {},
   "outputs": [
    {
     "data": {
      "text/plain": [
       "0         4\n",
       "1         2\n",
       "2         3\n",
       "3         3\n",
       "4         2\n",
       "         ..\n",
       "119995    3\n",
       "119996    1\n",
       "119997    2\n",
       "119998    2\n",
       "119999    2\n",
       "Name: Account_change, Length: 120000, dtype: int64"
      ]
     },
     "execution_count": 13,
     "metadata": {},
     "output_type": "execute_result"
    }
   ],
   "source": [
    "train['Account_change']"
   ]
  },
  {
   "cell_type": "markdown",
   "metadata": {},
   "source": [
    "# 데이터 생성"
   ]
  },
  {
   "cell_type": "code",
   "execution_count": 29,
   "metadata": {},
   "outputs": [
    {
     "name": "stderr",
     "output_type": "stream",
     "text": [
      "100%|██████████| 13/13 [01:44<00:00,  8.03s/it]\n"
     ]
    }
   ],
   "source": [
    "fraud_types = train['Fraud_Type'].unique()\n",
    "\n",
    "# 모든 합성 데이터를 저장할 DataFrame 초기화\n",
    "all_synthetic_data = pd.DataFrame()\n",
    "\n",
    "N_CLS_PER_GEN = 1000\n",
    "N_SAMPLE = 100\n",
    "\n",
    "train_new = train_all.drop(columns=\"ID\")\n",
    "train_new['Time_difference_seconds'] = pd.to_timedelta(train_new['Time_difference']).dt.total_seconds()\n",
    "\n",
    "# 각 Fraud_Type에 대해 합성 데이터 생성 및 저장\n",
    "for fraud_type in tqdm(fraud_types):\n",
    "    \n",
    "    # 해당 Fraud_Type에 대한 서브셋 생성\n",
    "    subset = train_new[train_new[\"Fraud_Type\"] == fraud_type]\n",
    "\n",
    "    # 모든 Fraud_Type에 대해 100개씩 샘플링\n",
    "    subset = subset.sample(n=N_SAMPLE, random_state=42)\n",
    "    \n",
    "    # Time_difference 열 제외 (초 단위로 변환된 컬럼만 사용)\n",
    "    subset = subset.drop('Time_difference', axis=1)\n",
    "    \n",
    "    # 메타데이터 생성 및 모델 학습\n",
    "    metadata = SingleTableMetadata()\n",
    "\n",
    "    metadata.detect_from_dataframe(subset)\n",
    "    metadata.set_primary_key(None)\n",
    "\n",
    "    # 데이터 타입 설정\n",
    "    column_sdtypes = {\n",
    "        'Account_initial_balance': 'numerical',\n",
    "        'Account_balance': 'numerical',\n",
    "        'Customer_identification_number': 'categorical',  \n",
    "        'Customer_personal_identifier': 'categorical',\n",
    "        'Account_account_number': 'categorical',\n",
    "        'IP_Address': 'ipv4_address',  \n",
    "        'Location': 'categorical',\n",
    "        'Recipient_Account_Number': 'categorical',\n",
    "        'Fraud_Type': 'categorical',\n",
    "        'Time_difference_seconds': 'numerical',\n",
    "        'Customer_Birthyear': 'numerical'\n",
    "    }\n",
    "\n",
    "    # 각 컬럼에 대해 데이터 타입 설정\n",
    "    for column, sdtype in column_sdtypes.items():\n",
    "        metadata.update_column(\n",
    "            column_name=column,\n",
    "            sdtype=sdtype\n",
    "        )\n",
    "        \n",
    "    synthesizer = CTGANSynthesizer(\n",
    "                            metadata,\n",
    "                            epochs=100\n",
    "                        )\n",
    "    synthesizer.fit(subset)\n",
    "\n",
    "    synthetic_subset = synthesizer.sample(num_rows=N_CLS_PER_GEN)\n",
    "\n",
    "    # Time_difference_seconds를 다시 timedelta로 변환\n",
    "    synthetic_subset['Time_difference'] = pd.to_timedelta(synthetic_subset['Time_difference_seconds'], unit='s')\n",
    "    \n",
    "    # Time_difference_seconds 컬럼 제거\n",
    "    synthetic_subset = synthetic_subset.drop('Time_difference_seconds', axis=1)\n",
    "    \n",
    "    # 생성된 데이터를 all_synthetic_data에 추가\n",
    "    all_synthetic_data = pd.concat([all_synthetic_data, synthetic_subset], ignore_index=True)\n",
    "    \n"
   ]
  },
  {
   "cell_type": "code",
   "execution_count": 30,
   "metadata": {},
   "outputs": [
    {
     "data": {
      "text/plain": [
       "0           0 days 02:53:50\n",
       "1           0 days 01:07:33\n",
       "2           0 days 00:52:59\n",
       "3           0 days 01:24:05\n",
       "4           0 days 01:43:29\n",
       "                ...        \n",
       "119995    369 days 18:04:19\n",
       "119996      0 days 02:30:38\n",
       "119997      4 days 05:55:39\n",
       "119998      0 days 01:20:06\n",
       "119999      2 days 11:35:54\n",
       "Name: Time_difference, Length: 120000, dtype: object"
      ]
     },
     "execution_count": 30,
     "metadata": {},
     "output_type": "execute_result"
    }
   ],
   "source": [
    "train_all['Time_difference']"
   ]
  },
  {
   "cell_type": "code",
   "execution_count": 32,
   "metadata": {},
   "outputs": [
    {
     "data": {
      "text/plain": [
       "0        sdv-pii-qg91g\n",
       "1        sdv-pii-hsk10\n",
       "2        sdv-pii-ono5u\n",
       "3        sdv-pii-g8e36\n",
       "4        sdv-pii-71oqz\n",
       "             ...      \n",
       "12995    sdv-pii-ce1wh\n",
       "12996    sdv-pii-lf5bu\n",
       "12997    sdv-pii-pizl4\n",
       "12998    sdv-pii-q5cey\n",
       "12999    sdv-pii-enzuf\n",
       "Name: Time_difference, Length: 13000, dtype: object"
      ]
     },
     "execution_count": 32,
     "metadata": {},
     "output_type": "execute_result"
    }
   ],
   "source": [
    "all_synthetic_data_preprocessed['Time_difference']"
   ]
  },
  {
   "cell_type": "code",
   "execution_count": 26,
   "metadata": {},
   "outputs": [
    {
     "data": {
      "text/plain": [
       "0        qymOvYTPak\n",
       "1        RGOKLVGXPe\n",
       "2        HBlndEyQSx\n",
       "3        WACutwWoxO\n",
       "4        IBkDrwvZDu\n",
       "            ...    \n",
       "12995    BVJLngycWt\n",
       "12996    AogPDVBzjW\n",
       "12997    hvAdPZJfmW\n",
       "12998    oSGDkdHqfM\n",
       "12999    hcIkgCzSbg\n",
       "Name: Account_account_number, Length: 13000, dtype: object"
      ]
     },
     "execution_count": 26,
     "metadata": {},
     "output_type": "execute_result"
    }
   ],
   "source": [
    "all_synthetic_data_preprocessed['Account_account_number']"
   ]
  },
  {
   "cell_type": "code",
   "execution_count": 33,
   "metadata": {},
   "outputs": [
    {
     "name": "stdout",
     "output_type": "stream",
     "text": [
      "\n",
      "Final All Synthetic Data Shape: (13000, 63)\n",
      "(133000, 73)\n",
      "Fold 0 Macro F1 Score : 0.6911748873397078\n",
      "Fold 1 Macro F1 Score : 0.9386437247656949\n",
      "Fold 2 Macro F1 Score : 0.9414318437978444\n",
      "Fold 3 Macro F1 Score : 0.9448287228494385\n",
      "Fold 4 Macro F1 Score : 0.9146888890775233\n",
      "Average Macro F1 Score : 0.8861536135660417\n"
     ]
    }
   ],
   "source": [
    "# 최종 결과 확인\n",
    "all_synthetic_data_preprocessed=all_synthetic_data.copy()\n",
    "\n",
    "all_synthetic_data_preprocessed['Time_difference_seconds'] = pd.to_timedelta(all_synthetic_data_preprocessed['Time_difference']).dt.total_seconds()\n",
    "\n",
    "all_synthetic_data_preprocessed['Transaction_Datetime']=pd.to_datetime(all_synthetic_data_preprocessed['Transaction_Datetime'])\n",
    "all_synthetic_data_preprocessed['Last_bank_branch_transaction_datetime']=pd.to_datetime(all_synthetic_data_preprocessed['Last_bank_branch_transaction_datetime'])\n",
    "all_synthetic_data_preprocessed['Last_atm_transaction_datetime']=pd.to_datetime(all_synthetic_data_preprocessed['Last_atm_transaction_datetime'])\n",
    "\n",
    "all_synthetic_data_preprocessed['Customer_malicious_behavior']=(all_synthetic_data_preprocessed['Customer_rooting_jailbreak_indicator']+\n",
    "                                        all_synthetic_data_preprocessed['Customer_mobile_roaming_indicator']+\n",
    "                                        all_synthetic_data_preprocessed['Customer_VPN_Indicator']+\n",
    "                                        all_synthetic_data_preprocessed['Customer_flag_terminal_malicious_behavior_1']+\n",
    "                                        all_synthetic_data_preprocessed['Customer_flag_terminal_malicious_behavior_2']+\n",
    "                                        all_synthetic_data_preprocessed['Customer_flag_terminal_malicious_behavior_3']+\n",
    "                                        all_synthetic_data_preprocessed['Customer_flag_terminal_malicious_behavior_4']+\n",
    "                                        all_synthetic_data_preprocessed['Customer_flag_terminal_malicious_behavior_5']+\n",
    "                                        all_synthetic_data_preprocessed['Customer_flag_terminal_malicious_behavior_6'])\n",
    "\n",
    "all_synthetic_data_preprocessed['Customer_change_of_authentication']=(all_synthetic_data_preprocessed['Customer_flag_change_of_authentication_1']+\n",
    "                                                all_synthetic_data_preprocessed['Customer_flag_change_of_authentication_2']+\n",
    "                                                all_synthetic_data_preprocessed['Customer_flag_change_of_authentication_3']+\n",
    "                                                all_synthetic_data_preprocessed['Customer_flag_change_of_authentication_4'])\n",
    "\n",
    "all_synthetic_data_preprocessed['Account_change']=(all_synthetic_data_preprocessed['Account_indicator_release_limit_excess']+\n",
    "                            all_synthetic_data_preprocessed['Account_release_suspention']+\n",
    "                            all_synthetic_data_preprocessed['Flag_deposit_more_than_tenMillion']+\n",
    "                            all_synthetic_data_preprocessed['Unused_account_status']+\n",
    "                            all_synthetic_data_preprocessed['Recipient_account_suspend_status'])\n",
    "\n",
    "all_synthetic_data_preprocessed['Transaction_Datetime_isholiday']=all_synthetic_data_preprocessed['Transaction_Datetime'].apply(is_holiday)\n",
    "all_synthetic_data_preprocessed['Transaction_Datetime_day']=all_synthetic_data_preprocessed['Transaction_Datetime'].apply(lambda x: x.strftime(\"%A\"))\n",
    "all_synthetic_data_preprocessed['Location_District_Size']=all_synthetic_data_preprocessed['Location'].apply(lambda x: x.split()[2][-1])\n",
    "all_synthetic_data_preprocessed['Last_atm_bank_transaction_time_difference']=(all_synthetic_data_preprocessed['Last_bank_branch_transaction_datetime']-all_synthetic_data_preprocessed['Last_atm_transaction_datetime']).dt.total_seconds()\n",
    "all_synthetic_data_preprocessed['Transaction_Datetime_timezone']=all_synthetic_data_preprocessed['Transaction_Datetime'].apply(timezone)\n",
    "all_synthetic_data_preprocessed['Account_after_transaction']=all_synthetic_data_preprocessed['Account_balance']-all_synthetic_data_preprocessed['Account_initial_balance']\n",
    "\n",
    "## 원본 데이터와 concat\n",
    "\n",
    "train_total = pd.concat([train, all_synthetic_data_preprocessed])\n",
    "print(train_total.shape)\n",
    "\n",
    "# 불균형 범주형 데이터 교차검증\n",
    "fold_num=5\n",
    "f1_macro_sum=0\n",
    "skf=StratifiedKFold(n_splits=fold_num)\n",
    "for i, (train_index, valid_index) in enumerate(skf.split(train_total, train_total['Fraud_Type'])):\n",
    "\n",
    "    # Data Preprocessing 1 : Select x, y\n",
    "    train_x = train_total.iloc[train_index].drop(columns=['Fraud_Type'])\n",
    "    train_x = train_x[model_fit_columns]\n",
    "    train_y = train_total.iloc[train_index]['Fraud_Type']\n",
    "    \n",
    "    valid_x = train_total.iloc[valid_index].drop(columns=['Fraud_Type'])\n",
    "    valid_x = valid_x[model_fit_columns]\n",
    "    valid_y = train_total.iloc[valid_index]['Fraud_Type']\n",
    "\n",
    "    # Data Preprocessing 2 : 범주형 변수 인코딩\n",
    "    le_subclass = LabelEncoder()\n",
    "    train_y_encoded = le_subclass.fit_transform(train_y)\n",
    "   \n",
    "    # train_x['Time_difference'] = train_x['Time_difference'].astype(str)\n",
    "    # valid_x['Time_difference'] = valid_x['Time_difference'].astype(str)\n",
    "\n",
    "    # 범주형 변수 인코딩\n",
    "\n",
    "    ct=ColumnTransformer([('encoder', OneHotEncoder(sparse=False, drop='first',handle_unknown='ignore'), \n",
    "                           obj_cat_columns+num_cat_columns),\n",
    "                        ('scaler', StandardScaler(), num_con_columns),\n",
    "                        ('binning', KBinsDiscretizer(n_bins=5, encode='ordinal', strategy='quantile'), num_con_columns)]\n",
    "                             )\n",
    " \n",
    "    # 훈련 데이터 인코딩\n",
    "    train_x_encoded = train_x.copy()\n",
    "    valid_x_encoded = valid_x.copy()\n",
    "    \n",
    "    train_encoded_array=ct.fit_transform(train_x_encoded)\n",
    "    valid_encoded_array=ct.transform(valid_x_encoded)\n",
    "    \n",
    "    column_names=ct.get_feature_names_out()\n",
    "    train_x_encoded=pd.DataFrame(train_encoded_array, columns=column_names)\n",
    "    valid_x_encoded=pd.DataFrame(valid_encoded_array, columns=column_names)\n",
    "        \n",
    "    # Model Define\n",
    "    # 모델 정의 및 학습\n",
    "    model = xgb.XGBClassifier(\n",
    "        n_estimators=100,\n",
    "        learning_rate=0.1,\n",
    "        max_depth=6,\n",
    "        random_state=42,\n",
    "        use_label_encoder=False,\n",
    "        eval_metric='mlogloss'\n",
    "    )\n",
    "\n",
    "    model.fit(train_x_encoded, train_y_encoded)\n",
    "    \n",
    "\n",
    "    predictions = model.predict(valid_x_encoded)\n",
    "    predictions_label = le_subclass.inverse_transform(predictions)\n",
    "    \n",
    "    f1_macro=f1_score(valid_y, predictions_label, average='macro')\n",
    "    print(f'Fold {i} Macro F1 Score : {f1_macro}')\n",
    "\n",
    "    f1_macro_sum+=f1_macro\n",
    "    \n",
    "    with open(f'model_{datetime.datetime.now().strftime(\"%Y%m%d\")}_validation.txt','a') as file:\n",
    "        file.write(f'Fold {i} Macro F1 Score : {f1_macro} \\n')\n",
    "    \n",
    "print(f'Average Macro F1 Score : {f1_macro_sum/fold_num}')\n"
   ]
  },
  {
   "cell_type": "markdown",
   "metadata": {},
   "source": [
    "# 모델 예측"
   ]
  },
  {
   "cell_type": "code",
   "execution_count": 35,
   "metadata": {},
   "outputs": [
    {
     "data": {
      "text/plain": [
       "['model_20240820.pkl']"
      ]
     },
     "execution_count": 35,
     "metadata": {},
     "output_type": "execute_result"
    }
   ],
   "source": [
    "train_total_x = train_total.drop(columns=['Fraud_Type'])\n",
    "train_total_x = train_total_x[model_fit_columns]\n",
    "train_total_y = train_total['Fraud_Type']\n",
    "\n",
    "le_subclass = LabelEncoder()\n",
    "train_total_y_encoded = le_subclass.fit_transform(train_total_y)\n",
    "\n",
    "# Model Define\n",
    "# 모델 정의 및 학습\n",
    "model = xgb.XGBClassifier(\n",
    "        n_estimators=100,\n",
    "        learning_rate=0.1,\n",
    "        max_depth=6,\n",
    "        random_state=42,\n",
    "        use_label_encoder=False,\n",
    "        eval_metric='mlogloss'\n",
    "    )\n",
    "\n",
    "\n",
    "ct=ColumnTransformer([('encoder', OneHotEncoder(sparse=False, drop='first',handle_unknown='ignore'), obj_cat_columns+num_cat_columns),\n",
    "                        ('scaler', StandardScaler(), num_con_columns),\n",
    "                        ('binning', KBinsDiscretizer(n_bins=5, encode='ordinal', strategy='quantile'), num_con_columns)]\n",
    "                             )\n",
    " \n",
    "# 훈련 데이터 인코딩\n",
    "train_total_x_encoded = train_total_x.copy()\n",
    "\n",
    "    \n",
    "train_total_encoded_array=ct.fit_transform(train_total_x_encoded)\n",
    "    \n",
    "column_names=ct.get_feature_names_out()\n",
    "train_total_x_encoded=pd.DataFrame(train_total_encoded_array, columns=column_names)\n",
    "        \n",
    "\n",
    "model.fit(train_total_x_encoded, train_total_y_encoded)\n",
    "\n",
    "# joblib로 모델 저장\n",
    "    \n",
    "joblib.dump(model, f'model_{datetime.datetime.now().strftime(\"%Y%m%d\")}.pkl')\n"
   ]
  },
  {
   "cell_type": "code",
   "execution_count": 36,
   "metadata": {},
   "outputs": [],
   "source": [
    "\n",
    "# 테스트 데이터 인코딩\n",
    "test_x=test_all.drop(columns=['ID'])\n",
    "test_x['Time_difference_seconds'] = pd.to_timedelta(test_x['Time_difference']).dt.total_seconds()\n",
    "\n",
    "test_x['Transaction_Datetime']=pd.to_datetime(test_x['Transaction_Datetime'])\n",
    "test_x['Last_bank_branch_transaction_datetime']=pd.to_datetime(test_x['Last_bank_branch_transaction_datetime'])\n",
    "test_x['Last_atm_transaction_datetime']=pd.to_datetime(test_x['Last_atm_transaction_datetime'])\n",
    "\n",
    "test_x['Customer_malicious_behavior']=(test_x['Customer_rooting_jailbreak_indicator']+\n",
    "                                    test_x['Customer_mobile_roaming_indicator']+\n",
    "                                    test_x['Customer_VPN_Indicator']+\n",
    "                                    test_x['Customer_flag_terminal_malicious_behavior_1']+\n",
    "                                    test_x['Customer_flag_terminal_malicious_behavior_2']+\n",
    "                                    test_x['Customer_flag_terminal_malicious_behavior_3']+\n",
    "                                    test_x['Customer_flag_terminal_malicious_behavior_4']+\n",
    "                                    test_x['Customer_flag_terminal_malicious_behavior_5']+\n",
    "                                    test_x['Customer_flag_terminal_malicious_behavior_6'])\n",
    "\n",
    "test_x['Customer_change_of_authentication']=(test_x['Customer_flag_change_of_authentication_1']+\n",
    "                                            test_x['Customer_flag_change_of_authentication_2']+\n",
    "                                            test_x['Customer_flag_change_of_authentication_3']+\n",
    "                                            test_x['Customer_flag_change_of_authentication_4'])\n",
    "\n",
    "test_x['Account_change']=(test_x['Account_indicator_release_limit_excess']+\n",
    "                         test_x['Account_release_suspention']+\n",
    "                         test_x['Flag_deposit_more_than_tenMillion']+\n",
    "                         test_x['Unused_account_status']+\n",
    "                         test_x['Recipient_account_suspend_status'])\n",
    "\n",
    "test_x['Transaction_Datetime_isholiday']=test_x['Transaction_Datetime'].apply(is_holiday)\n",
    "test_x['Transaction_Datetime_day']=test_x['Transaction_Datetime'].apply(lambda x: x.strftime(\"%A\"))\n",
    "test_x['Location_District_Size']=test_x['Location'].apply(lambda x: x.split()[2][-1])\n",
    "test_x['Last_atm_bank_transaction_time_difference']=(test_x['Last_bank_branch_transaction_datetime']-test_x['Last_atm_transaction_datetime']).dt.total_seconds()\n",
    "test_x['Transaction_Datetime_timezone']=test_x['Transaction_Datetime'].apply(timezone)\n",
    "test_x['Account_after_transaction']=test_x['Account_balance']-test_x['Account_initial_balance']\n",
    "\n",
    "\n",
    "test_x_encoded = test_x.copy()\n",
    "test_x_encoded=test_x_encoded[model_fit_columns]\n",
    "test_encoded_array=ct.transform(test_x_encoded)\n",
    "\n",
    "# 특성 순서 맞추기 및 데이터 타입 일치\n",
    "column_names=ct.get_feature_names_out()\n",
    "test_x_encoded=pd.DataFrame(test_encoded_array, columns=column_names)\n",
    "\n",
    "# 예측\n",
    "predictions = model.predict(test_x_encoded)\n",
    "predictions_label = le_subclass.inverse_transform(predictions)"
   ]
  },
  {
   "cell_type": "markdown",
   "metadata": {},
   "source": [
    "# 제출 파일 생성"
   ]
  },
  {
   "cell_type": "code",
   "execution_count": 37,
   "metadata": {},
   "outputs": [],
   "source": [
    "# 분류 예측 결과 제출 데이터프레임(DataFrame)\n",
    "\n",
    "clf_submission = pd.read_csv(\"./sample_submission.csv\")\n",
    "clf_submission[\"Fraud_Type\"] = predictions_label\n",
    "\n",
    "# 폴더 생성 및 작업 디렉토리 변경\n",
    "os.makedirs('./submission', exist_ok=True)\n",
    "os.chdir(\"./submission/\")\n",
    "\n",
    "# CSV 파일로 저장\n",
    "clf_submission.to_csv('./clf_submission.csv', encoding='UTF-8-sig', index=False)\n",
    "all_synthetic_data.to_csv('./syn_submission.csv', encoding='UTF-8-sig', index=False)\n",
    "\n",
    "# ZIP 파일 생성 및 CSV 파일 추가\n",
    "with zipfile.ZipFile(\"../baseline_submission_.zip\", 'w') as submission:\n",
    "    submission.write('clf_submission.csv')\n",
    "    submission.write('syn_submission.csv')\n"
   ]
  }
 ],
 "metadata": {
  "kernelspec": {
   "display_name": "torch",
   "language": "python",
   "name": "python3"
  },
  "language_info": {
   "codemirror_mode": {
    "name": "ipython",
    "version": 3
   },
   "file_extension": ".py",
   "mimetype": "text/x-python",
   "name": "python",
   "nbconvert_exporter": "python",
   "pygments_lexer": "ipython3",
   "version": "3.9.17"
  }
 },
 "nbformat": 4,
 "nbformat_minor": 2
}
